{
 "cells": [
  {
   "cell_type": "markdown",
   "metadata": {},
   "source": [
    "## 단어 공부"
   ]
  },
  {
   "cell_type": "markdown",
   "metadata": {},
   "source": [
    "알파벳 대소문자로 된 단어가 주어지면, 이 단어에서 가장 많이 사용된 알파벳이 무엇인지 알아내는 프로그램을 작성하시오. 단, 대문자와 소문자를 구분하지 않는다."
   ]
  },
  {
   "cell_type": "code",
   "execution_count": 2,
   "metadata": {},
   "outputs": [
    {
     "name": "stdout",
     "output_type": "stream",
     "text": [
      "D\n"
     ]
    }
   ],
   "source": [
    "def find_letter(s):\n",
    "    s = s.lower()\n",
    "    uniq_l = dict()\n",
    "    cnt_dict = dict()\n",
    "    for char in s:\n",
    "        if char not in uniq_l:\n",
    "            uniq_l[char] = 1\n",
    "        else:\n",
    "            uniq_l[char]+=1\n",
    "    for key,val in uniq_l.items():\n",
    "        if val not in cnt_dict:\n",
    "            cnt_dict[val]=[key]\n",
    "        else:\n",
    "            cnt_dict[val].append(key)\n",
    "    max_cnt = max(list(cnt_dict.keys()))\n",
    "    if len(cnt_dict[max_cnt])>1:\n",
    "        return \"?\"\n",
    "    else:\n",
    "        return cnt_dict[max_cnt][0].upper()\n",
    "    \n",
    "s=input()\n",
    "print(find_letter(s))"
   ]
  }
 ],
 "metadata": {
  "interpreter": {
   "hash": "727708c3cdb3c3f496118a21f59f706591203dd8a1521d8d027fa39be58f3bf6"
  },
  "kernelspec": {
   "display_name": "Python 3.8.8 ('base': conda)",
   "language": "python",
   "name": "python3"
  },
  "language_info": {
   "codemirror_mode": {
    "name": "ipython",
    "version": 3
   },
   "file_extension": ".py",
   "mimetype": "text/x-python",
   "name": "python",
   "nbconvert_exporter": "python",
   "pygments_lexer": "ipython3",
   "version": "3.8.8"
  },
  "orig_nbformat": 4
 },
 "nbformat": 4,
 "nbformat_minor": 2
}
