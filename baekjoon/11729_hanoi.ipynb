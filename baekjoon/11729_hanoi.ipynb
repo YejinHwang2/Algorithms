{
 "cells": [
  {
   "cell_type": "markdown",
   "metadata": {},
   "source": [
    "## 하노이 탑 이동 순서"
   ]
  },
  {
   "cell_type": "markdown",
   "metadata": {},
   "source": [
    "세 개의 장대가 있고 첫 번째 장대에는 반경이 서로 다른 n개의 원판이 쌓여 있다. 각 원판은 반경이 큰 순서대로 쌓여있다. 이제 수도승들이 다음 규칙에 따라 첫 번째 장대에서 세 번째 장대로 옮기려 한다.\n",
    "\n",
    "한 번에 한 개의 원판만을 다른 탑으로 옮길 수 있다.\n",
    "쌓아 놓은 원판은 항상 위의 것이 아래의 것보다 작아야 한다."
   ]
  },
  {
   "cell_type": "code",
   "execution_count": 2,
   "metadata": {},
   "outputs": [
    {
     "name": "stdout",
     "output_type": "stream",
     "text": [
      "7\n",
      "1 3\n",
      "1 2\n",
      "3 2\n",
      "1 3\n",
      "2 1\n",
      "2 3\n",
      "1 3\n"
     ]
    }
   ],
   "source": [
    "def hanoi(N,a,b,c):\n",
    "    if N==1:\n",
    "        move.append([a,c])\n",
    "    else:\n",
    "        hanoi(N-1,a,c,b)\n",
    "        move.append([a,c])\n",
    "        hanoi(N-1,b,a,c)\n",
    "move=[]\n",
    "N=int(input())\n",
    "hanoi(N,1,2,3)\n",
    "print(len(move))\n",
    "for path in move:\n",
    "    print(path[0],path[1])"
   ]
  }
 ],
 "metadata": {
  "language_info": {
   "name": "python"
  },
  "orig_nbformat": 4
 },
 "nbformat": 4,
 "nbformat_minor": 2
}
