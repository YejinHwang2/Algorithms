{
 "cells": [
  {
   "cell_type": "markdown",
   "metadata": {},
   "source": [
    "수를 처리하는 것은 통계학에서 상당히 중요한 일이다. 통계학에서 N개의 수를 대표하는 기본 통계값에는 다음과 같은 것들이 있다. 단, N은 홀수라고 가정하자.\n",
    "\n",
    "산술평균 : N개의 수들의 합을 N으로 나눈 값\n",
    "중앙값 : N개의 수들을 증가하는 순서로 나열했을 경우 그 중앙에 위치하는 값\n",
    "최빈값 : N개의 수들 중 가장 많이 나타나는 값\n",
    "범위 : N개의 수들 중 최댓값과 최솟값의 차이\n",
    "N개의 수가 주어졌을 때, 네 가지 기본 통계값을 구하는 프로그램을 작성하시오."
   ]
  },
  {
   "cell_type": "markdown",
   "metadata": {},
   "source": [
    "### My solution"
   ]
  },
  {
   "cell_type": "code",
   "execution_count": 1,
   "metadata": {},
   "outputs": [
    {
     "name": "stdout",
     "output_type": "stream",
     "text": [
      "2\n",
      "2\n",
      "1\n",
      "10\n"
     ]
    }
   ],
   "source": [
    "import sys\n",
    "input = sys.stdin.readline\n",
    "\n",
    "def stats(nums):\n",
    "    nums.sort()\n",
    "    \n",
    "    mean = int(round(sum(nums)/len(nums),0))\n",
    "    mid_idx = len(nums)//2 \n",
    "    median = nums[mid_idx]\n",
    "    cnt_dict = dict()\n",
    "    nums_unique = set()\n",
    "    for num in nums:\n",
    "        if num not in nums_unique:\n",
    "            nums_unique.add(num)\n",
    "            cnt = nums.count(num)\n",
    "            if cnt not in cnt_dict:\n",
    "                cnt_dict[cnt] = [num]\n",
    "            else:\n",
    "                cnt_dict[cnt].append(num)\n",
    "    \n",
    "    mode = 0\n",
    "    \n",
    "    mode_cnt = max(cnt_dict.keys())\n",
    "    \n",
    "    if len(cnt_dict[mode_cnt])>=2:\n",
    "        mode = cnt_dict[mode_cnt][1]\n",
    "\n",
    "    else:\n",
    "        mode = cnt_dict[mode_cnt][0]\n",
    "    \n",
    "    range_nums = nums[-1] - nums[0]\n",
    "    return mean, median, mode, range_nums\n",
    "\n",
    "nums = []\n",
    "\n",
    "N = int(input())\n",
    "for i in range(N):\n",
    "    nums.append(int(input()))\n",
    "mean,median,mode,range_nums = stats(nums)\n",
    "print(mean)\n",
    "print(median)\n",
    "print(mode)\n",
    "print(range_nums)"
   ]
  },
  {
   "cell_type": "markdown",
   "metadata": {},
   "source": [
    "## Solution using Counter"
   ]
  },
  {
   "cell_type": "markdown",
   "metadata": {},
   "source": [
    "Couunter 모듈 사용하면 빠르게 실행 가능!\n",
    "Input 함수를 sys.stdin.readline으로 하면 더 빠르게 실행 가능!"
   ]
  },
  {
   "cell_type": "markdown",
   "metadata": {},
   "source": [
    "## "
   ]
  },
  {
   "cell_type": "code",
   "execution_count": 8,
   "metadata": {},
   "outputs": [],
   "source": [
    "import sys\n",
    "input = sys.stdin.readline\n",
    "from collections import Counter\n",
    "\n",
    "def stats(nums):\n",
    "    nums.sort()\n",
    "    \n",
    "    mean = int(round(sum(nums)/len(nums),0))\n",
    "    mid_idx = len(nums)//2 \n",
    "    median = nums[mid_idx]\n",
    "    cnt_dict = Counter(nums)\n",
    "    cnt_list = cnt_dict.most_common()\n",
    "    if len(cnt_list) > 1:\n",
    "        if cnt_list[0][1] == cnt_list[1][1]:\n",
    "            mode = cnt_list[1][0]\n",
    "        else:\n",
    "            mode = cnt_list[0][0]\n",
    "    \n",
    "    else:\n",
    "        mode = cnt_list[0][0]\n",
    "    \n",
    "    range_nums = nums[-1] - nums[0]\n",
    "    return mean, median, mode, range_nums\n",
    "\n",
    "nums = []\n",
    "\n",
    "N = int(input())\n",
    "for i in range(N):\n",
    "    nums.append(int(input()))\n",
    "mean,median,mode,range_nums = stats(nums)\n",
    "print(mean)\n",
    "print(median)\n",
    "print(mode)\n",
    "print(range_nums)"
   ]
  },
  {
   "cell_type": "code",
   "execution_count": 7,
   "metadata": {},
   "outputs": [
    {
     "data": {
      "text/plain": [
       "[(4, 3), (5, 3), (2, 2), (3, 2), (1, 1)]"
      ]
     },
     "execution_count": 7,
     "metadata": {},
     "output_type": "execute_result"
    }
   ],
   "source": [
    "from collections import Counter\n",
    "Counter([1,2,3,4,4,2,3,4,5,5,5]).most_common()"
   ]
  }
 ],
 "metadata": {
  "interpreter": {
   "hash": "727708c3cdb3c3f496118a21f59f706591203dd8a1521d8d027fa39be58f3bf6"
  },
  "kernelspec": {
   "display_name": "Python 3.8.8 ('base': conda)",
   "language": "python",
   "name": "python3"
  },
  "language_info": {
   "codemirror_mode": {
    "name": "ipython",
    "version": 3
   },
   "file_extension": ".py",
   "mimetype": "text/x-python",
   "name": "python",
   "nbconvert_exporter": "python",
   "pygments_lexer": "ipython3",
   "version": "3.8.8"
  },
  "orig_nbformat": 4
 },
 "nbformat": 4,
 "nbformat_minor": 2
}
