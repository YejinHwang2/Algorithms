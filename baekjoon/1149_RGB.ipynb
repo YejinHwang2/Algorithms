{
 "cells": [
  {
   "cell_type": "code",
   "execution_count": 3,
   "metadata": {},
   "outputs": [
    {
     "name": "stdout",
     "output_type": "stream",
     "text": [
      "96\n"
     ]
    }
   ],
   "source": [
    "n = int(input())\n",
    "c = []\n",
    "for i in range(n):\n",
    "    c.append(list(map(int,input().split())))\n",
    "\n",
    "for i in range(1,len(c)):\n",
    "    c[i][0] = min(c[i-1][1],c[i-1][2])+c[i][0]\n",
    "    c[i][1] = min(c[i-1][0],c[i-1][2])+c[i][1]\n",
    "    c[i][2] = min(c[i-1][0],c[i-1][1])+c[i][2]\n",
    "\n",
    "print(min(c[n-1][0],c[n-1][1],c[n-1][2]))\n",
    "\n",
    "\n"
   ]
  }
 ],
 "metadata": {
  "interpreter": {
   "hash": "727708c3cdb3c3f496118a21f59f706591203dd8a1521d8d027fa39be58f3bf6"
  },
  "kernelspec": {
   "display_name": "Python 3.8.8 ('base': conda)",
   "language": "python",
   "name": "python3"
  },
  "language_info": {
   "codemirror_mode": {
    "name": "ipython",
    "version": 3
   },
   "file_extension": ".py",
   "mimetype": "text/x-python",
   "name": "python",
   "nbconvert_exporter": "python",
   "pygments_lexer": "ipython3",
   "version": "3.8.8"
  },
  "orig_nbformat": 4
 },
 "nbformat": 4,
 "nbformat_minor": 2
}
