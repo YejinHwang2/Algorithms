{
 "cells": [
  {
   "cell_type": "markdown",
   "id": "edb5b592",
   "metadata": {},
   "source": [
    "## 체스판 다시 칠하기"
   ]
  },
  {
   "cell_type": "code",
   "execution_count": 138,
   "id": "728a1ada",
   "metadata": {},
   "outputs": [
    {
     "name": "stdout",
     "output_type": "stream",
     "text": [
      "15\n"
     ]
    }
   ],
   "source": [
    "def chess(N,M,board):\n",
    "    import copy\n",
    "    ite_r = N-8+1\n",
    "    ite_c = M-8+1\n",
    "    cnt_list = []\n",
    "    \n",
    "    i = 0\n",
    "    \n",
    "    while i<ite_r:\n",
    "        j=0\n",
    "        while j<ite_c:\n",
    "            board_part = []\n",
    "            for s in range(i,i+8):\n",
    "                board_line = board[s][j:j+8]\n",
    "                board_part.append(board_line)\n",
    "            cnt_1= 0\n",
    "            cnt_2 = 0 \n",
    "            board_1 = copy.deepcopy(board_part)\n",
    "            board_2 = copy.deepcopy(board_part)\n",
    "            \n",
    "            for n in range(8):\n",
    "                for m in range(7):\n",
    "                    if m == 0 and n == 0:\n",
    "                        \n",
    "                        board_2[n][m] = list({\"W\",\"B\"} - {board_part[0][0]}).pop()\n",
    "                        cnt_2 +=1\n",
    "                        # print(board_1)\n",
    "                        # print(board_2)\n",
    "            \n",
    "                    \n",
    "                    if m == 0 and n != 7:\n",
    "                        if board_1[n][m] == board_1[n+1][m]:\n",
    "                            cnt_1+=1\n",
    "                            if board_1[n][m]==\"W\":\n",
    "                                board_1[n+1][m]=\"B\"\n",
    "                            else:\n",
    "                                board_1[n+1][m]=\"W\"\n",
    "                        if board_2[n][m] == board_2[n+1][m]:\n",
    "                            cnt_2+=1\n",
    "                            if board_2[n][m]==\"W\":\n",
    "                                board_2[n+1][m]=\"B\"\n",
    "                            else:\n",
    "                                board_2[n+1][m]=\"W\"\n",
    "\n",
    "            \n",
    "                    if board_1[n][m] == board_1[n][m+1]:\n",
    "                        cnt_1+=1\n",
    "                        if board_1[n][m]==\"W\":\n",
    "                            board_1[n][m+1]=\"B\"\n",
    "                        else:\n",
    "                            board_1[n][m+1]=\"W\"\n",
    "\n",
    "                    \n",
    "                    if board_2[n][m] == board_2[n][m+1]:\n",
    "                        cnt_2+=1\n",
    "                        if board_2[n][m]==\"W\":\n",
    "                            board_2[n][m+1]=\"B\"\n",
    "                        else:\n",
    "                            board_2[n][m+1]=\"W\"\n",
    "            # print(cnt_1,cnt_2)\n",
    "            cnt = min(cnt_1,cnt_2)\n",
    "            cnt_list.append(cnt) \n",
    "            j+=1\n",
    "                                             \n",
    "        i+=1\n",
    "        \n",
    "    ans = min(cnt_list)\n",
    "    \n",
    "    return ans\n",
    "    \n",
    "N, M = map(int, input().split())\n",
    "board = []\n",
    "for _ in range(N):\n",
    "    board.append(list(input())) \n",
    "\n",
    "print(chess(N,M,board))"
   ]
  }
 ],
 "metadata": {
  "kernelspec": {
   "display_name": "Python 3",
   "language": "python",
   "name": "python3"
  },
  "language_info": {
   "codemirror_mode": {
    "name": "ipython",
    "version": 3
   },
   "file_extension": ".py",
   "mimetype": "text/x-python",
   "name": "python",
   "nbconvert_exporter": "python",
   "pygments_lexer": "ipython3",
   "version": "3.8.8"
  }
 },
 "nbformat": 4,
 "nbformat_minor": 5
}
