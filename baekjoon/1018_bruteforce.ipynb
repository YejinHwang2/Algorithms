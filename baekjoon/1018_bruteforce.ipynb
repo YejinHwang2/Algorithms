{
 "cells": [
  {
   "cell_type": "markdown",
   "id": "edb5b592",
   "metadata": {},
   "source": [
    "## 체스판 다시 칠하기"
   ]
  },
  {
   "cell_type": "code",
   "execution_count": 138,
   "id": "728a1ada",
   "metadata": {},
   "outputs": [
    {
     "name": "stdout",
     "output_type": "stream",
     "text": [
      "15\n"
     ]
    }
   ],
   "source": [
    "def chess(N,M,board):\n",
    "    import copy\n",
    "    ite_r = N-8+1\n",
    "    ite_c = M-8+1\n",
    "    cnt_list = []\n",
    "    \n",
    "    i = 0\n",
    "    \n",
    "    while i<ite_r:\n",
    "        j=0\n",
    "        while j<ite_c:\n",
    "            board_part = []\n",
    "            for s in range(i,i+8):\n",
    "                board_line = board[s][j:j+8]\n",
    "                board_part.append(board_line)\n",
    "            cnt_1= 0\n",
    "            cnt_2 = 0 \n",
    "            board_1 = copy.deepcopy(board_part)\n",
    "            board_2 = copy.deepcopy(board_part)\n",
    "            \n",
    "            for n in range(8):\n",
    "                for m in range(7):\n",
    "                    if m == 0 and n == 0:\n",
    "                        \n",
    "                        board_2[n][m] = list({\"W\",\"B\"} - {board_part[0][0]}).pop()\n",
    "                        cnt_2 +=1\n",
    "                        # print(board_1)\n",
    "                        # print(board_2)\n",
    "            \n",
    "                    \n",
    "                    if m == 0 and n != 7:\n",
    "                        if board_1[n][m] == board_1[n+1][m]:\n",
    "                            cnt_1+=1\n",
    "                            if board_1[n][m]==\"W\":\n",
    "                                board_1[n+1][m]=\"B\"\n",
    "                            else:\n",
    "                                board_1[n+1][m]=\"W\"\n",
    "                        if board_2[n][m] == board_2[n+1][m]:\n",
    "                            cnt_2+=1\n",
    "                            if board_2[n][m]==\"W\":\n",
    "                                board_2[n+1][m]=\"B\"\n",
    "                            else:\n",
    "                                board_2[n+1][m]=\"W\"\n",
    "\n",
    "            \n",
    "                    if board_1[n][m] == board_1[n][m+1]:\n",
    "                        cnt_1+=1\n",
    "                        if board_1[n][m]==\"W\":\n",
    "                            board_1[n][m+1]=\"B\"\n",
    "                        else:\n",
    "                            board_1[n][m+1]=\"W\"\n",
    "\n",
    "                    \n",
    "                    if board_2[n][m] == board_2[n][m+1]:\n",
    "                        cnt_2+=1\n",
    "                        if board_2[n][m]==\"W\":\n",
    "                            board_2[n][m+1]=\"B\"\n",
    "                        else:\n",
    "                            board_2[n][m+1]=\"W\"\n",
    "            # print(cnt_1,cnt_2)\n",
    "            cnt = min(cnt_1,cnt_2)\n",
    "            cnt_list.append(cnt) \n",
    "            j+=1\n",
    "                                             \n",
    "        i+=1\n",
    "        \n",
    "    ans = min(cnt_list)\n",
    "    \n",
    "    return ans\n",
    "    \n",
    "N, M = map(int, input().split())\n",
    "board = []\n",
    "for _ in range(N):\n",
    "    board.append(list(input())) \n",
    "\n",
    "print(chess(N,M,board))"
   ]
  },
  {
   "cell_type": "code",
   "execution_count": 128,
   "id": "7ebf7d96",
   "metadata": {},
   "outputs": [],
   "source": [
    "import random \n",
    "\n",
    "N,M = input().split()\n",
    "N=int(N)\n",
    "M=int(M)\n",
    "c = [\"W\",\"B\"]\n",
    "board=[]\n",
    "for i in range(N):\n",
    "    board.append([])\n",
    "    \n",
    "for i in range(N):\n",
    "    for j in range(M):\n",
    "        board[i].append(random.choice(c))\n",
    "        "
   ]
  },
  {
   "cell_type": "code",
   "execution_count": 116,
   "id": "df839a0d",
   "metadata": {},
   "outputs": [
    {
     "data": {
      "text/plain": [
       "[['W', 'B', 'B', 'B', 'W', 'B', 'W', 'W', 'W', 'W'],\n",
       " ['W', 'W', 'W', 'W', 'B', 'W', 'B', 'W', 'B', 'B'],\n",
       " ['W', 'W', 'W', 'W', 'B', 'W', 'B', 'B', 'W', 'B'],\n",
       " ['B', 'W', 'W', 'B', 'W', 'W', 'B', 'B', 'W', 'W'],\n",
       " ['B', 'W', 'W', 'B', 'W', 'W', 'B', 'B', 'B', 'B'],\n",
       " ['W', 'B', 'W', 'W', 'B', 'B', 'B', 'B', 'B', 'B'],\n",
       " ['B', 'B', 'B', 'B', 'W', 'W', 'W', 'W', 'W', 'B'],\n",
       " ['W', 'W', 'B', 'W', 'B', 'B', 'B', 'W', 'W', 'W'],\n",
       " ['W', 'B', 'W', 'B', 'W', 'W', 'B', 'B', 'W', 'B'],\n",
       " ['W', 'B', 'B', 'B', 'W', 'W', 'W', 'W', 'W', 'B']]"
      ]
     },
     "execution_count": 116,
     "metadata": {},
     "output_type": "execute_result"
    }
   ],
   "source": [
    "board"
   ]
  },
  {
   "cell_type": "code",
   "execution_count": 59,
   "id": "73678855",
   "metadata": {},
   "outputs": [
    {
     "data": {
      "text/plain": [
       "[['B', 'W', 'W', 'B', 'W', 'B', 'B', 'W'],\n",
       " ['B', 'B', 'W', 'W', 'B', 'W', 'B', 'W'],\n",
       " ['W', 'B', 'W', 'B', 'B', 'B', 'W', 'B'],\n",
       " ['B', 'B', 'W', 'W', 'W', 'W', 'B', 'W'],\n",
       " ['W', 'W', 'B', 'B', 'W', 'W', 'W', 'W'],\n",
       " ['W', 'W', 'B', 'B', 'W', 'B', 'B', 'B'],\n",
       " ['B', 'W', 'W', 'B', 'W', 'W', 'W', 'B'],\n",
       " ['B', 'W', 'B', 'W', 'W', 'B', 'B', 'B']]"
      ]
     },
     "execution_count": 59,
     "metadata": {},
     "output_type": "execute_result"
    }
   ],
   "source": [
    "board"
   ]
  },
  {
   "cell_type": "code",
   "execution_count": 10,
   "id": "3456ff06",
   "metadata": {},
   "outputs": [],
   "source": [
    "board=[]\n",
    "for i in range(8):\n",
    "    if i%2 == 0:\n",
    "        board.append([\"W\",\"B\"]*4)\n",
    "    else:\n",
    "        board.append([\"B\",\"W\"]*4)\n"
   ]
  },
  {
   "cell_type": "code",
   "execution_count": 11,
   "id": "27b06078",
   "metadata": {},
   "outputs": [],
   "source": [
    "board[3][3]=\"B\""
   ]
  },
  {
   "cell_type": "code",
   "execution_count": 12,
   "id": "27b8bd9a",
   "metadata": {},
   "outputs": [
    {
     "data": {
      "text/plain": [
       "[['W', 'B', 'W', 'B', 'W', 'B', 'W', 'B'],\n",
       " ['B', 'W', 'B', 'W', 'B', 'W', 'B', 'W'],\n",
       " ['W', 'B', 'W', 'B', 'W', 'B', 'W', 'B'],\n",
       " ['B', 'W', 'B', 'B', 'B', 'W', 'B', 'W'],\n",
       " ['W', 'B', 'W', 'B', 'W', 'B', 'W', 'B'],\n",
       " ['B', 'W', 'B', 'W', 'B', 'W', 'B', 'W'],\n",
       " ['W', 'B', 'W', 'B', 'W', 'B', 'W', 'B'],\n",
       " ['B', 'W', 'B', 'W', 'B', 'W', 'B', 'W']]"
      ]
     },
     "execution_count": 12,
     "metadata": {},
     "output_type": "execute_result"
    }
   ],
   "source": [
    "board"
   ]
  },
  {
   "cell_type": "code",
   "execution_count": 9,
   "id": "fd6b2cb7",
   "metadata": {},
   "outputs": [
    {
     "data": {
      "text/plain": [
       "[1, 2]"
      ]
     },
     "execution_count": 9,
     "metadata": {},
     "output_type": "execute_result"
    }
   ],
   "source": [
    "list(range(1,3))"
   ]
  },
  {
   "cell_type": "code",
   "execution_count": 13,
   "id": "7606ab5c",
   "metadata": {},
   "outputs": [
    {
     "ename": "IndexError",
     "evalue": "list index out of range",
     "output_type": "error",
     "traceback": [
      "\u001b[0;31m---------------------------------------------------------------------------\u001b[0m",
      "\u001b[0;31mIndexError\u001b[0m                                Traceback (most recent call last)",
      "\u001b[0;32m<ipython-input-13-3c94e6ac4aae>\u001b[0m in \u001b[0;36m<module>\u001b[0;34m\u001b[0m\n\u001b[0;32m----> 1\u001b[0;31m \u001b[0mchess\u001b[0m\u001b[0;34m(\u001b[0m\u001b[0;36m8\u001b[0m\u001b[0;34m,\u001b[0m\u001b[0;36m8\u001b[0m\u001b[0;34m,\u001b[0m\u001b[0mboard\u001b[0m\u001b[0;34m)\u001b[0m\u001b[0;34m\u001b[0m\u001b[0;34m\u001b[0m\u001b[0m\n\u001b[0m",
      "\u001b[0;32m<ipython-input-7-783650ae2f7c>\u001b[0m in \u001b[0;36mchess\u001b[0;34m(N, M, board)\u001b[0m\n\u001b[1;32m     25\u001b[0m \u001b[0;34m\u001b[0m\u001b[0m\n\u001b[1;32m     26\u001b[0m                     \u001b[0;32melse\u001b[0m\u001b[0;34m:\u001b[0m\u001b[0;34m\u001b[0m\u001b[0;34m\u001b[0m\u001b[0m\n\u001b[0;32m---> 27\u001b[0;31m                         \u001b[0;32mif\u001b[0m \u001b[0mboard_part\u001b[0m\u001b[0;34m[\u001b[0m\u001b[0mn\u001b[0m\u001b[0;34m]\u001b[0m\u001b[0;34m[\u001b[0m\u001b[0mm\u001b[0m\u001b[0;34m]\u001b[0m \u001b[0;34m==\u001b[0m \u001b[0mboard_part\u001b[0m\u001b[0;34m[\u001b[0m\u001b[0mn\u001b[0m\u001b[0;34m+\u001b[0m\u001b[0;36m1\u001b[0m\u001b[0;34m]\u001b[0m\u001b[0;34m[\u001b[0m\u001b[0mm\u001b[0m\u001b[0;34m]\u001b[0m\u001b[0;34m:\u001b[0m\u001b[0;34m\u001b[0m\u001b[0;34m\u001b[0m\u001b[0m\n\u001b[0m\u001b[1;32m     28\u001b[0m                             \u001b[0mcnt\u001b[0m\u001b[0;34m+=\u001b[0m\u001b[0;36m1\u001b[0m\u001b[0;34m\u001b[0m\u001b[0;34m\u001b[0m\u001b[0m\n\u001b[1;32m     29\u001b[0m                             \u001b[0;32mif\u001b[0m \u001b[0mboard_part\u001b[0m\u001b[0;34m[\u001b[0m\u001b[0mn\u001b[0m\u001b[0;34m]\u001b[0m\u001b[0;34m[\u001b[0m\u001b[0mm\u001b[0m\u001b[0;34m]\u001b[0m\u001b[0;34m==\u001b[0m\u001b[0;34m\"M\"\u001b[0m\u001b[0;34m:\u001b[0m\u001b[0;34m\u001b[0m\u001b[0;34m\u001b[0m\u001b[0m\n",
      "\u001b[0;31mIndexError\u001b[0m: list index out of range"
     ]
    }
   ],
   "source": [
    "chess(8,8,board)"
   ]
  },
  {
   "cell_type": "code",
   "execution_count": 3,
   "id": "fae9fe1b",
   "metadata": {},
   "outputs": [
    {
     "data": {
      "text/plain": [
       "'B'"
      ]
     },
     "execution_count": 3,
     "metadata": {},
     "output_type": "execute_result"
    }
   ],
   "source": [
    "import random\n",
    "random.choice(c)"
   ]
  },
  {
   "cell_type": "code",
   "execution_count": 5,
   "id": "deeb8209",
   "metadata": {},
   "outputs": [
    {
     "name": "stdout",
     "output_type": "stream",
     "text": [
      "3 4\n"
     ]
    }
   ],
   "source": [
    "N,M = input().split()\n",
    "N=int(N)\n",
    "M=int(M)"
   ]
  },
  {
   "cell_type": "code",
   "execution_count": null,
   "id": "21487f11",
   "metadata": {},
   "outputs": [],
   "source": []
  }
 ],
 "metadata": {
  "kernelspec": {
   "display_name": "Python 3",
   "language": "python",
   "name": "python3"
  },
  "language_info": {
   "codemirror_mode": {
    "name": "ipython",
    "version": 3
   },
   "file_extension": ".py",
   "mimetype": "text/x-python",
   "name": "python",
   "nbconvert_exporter": "python",
   "pygments_lexer": "ipython3",
   "version": "3.8.8"
  }
 },
 "nbformat": 4,
 "nbformat_minor": 5
}
