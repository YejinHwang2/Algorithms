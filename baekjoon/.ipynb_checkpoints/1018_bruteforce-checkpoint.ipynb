{
 "cells": [
  {
   "cell_type": "markdown",
   "id": "edb5b592",
   "metadata": {},
   "source": [
    "## 체스판 다시 칠하기"
   ]
  },
  {
   "cell_type": "code",
   "execution_count": null,
   "id": "4ca8e644",
   "metadata": {},
   "outputs": [],
   "source": [
    "def chess(N,M,board):\n",
    "    ite_c = N-8+1\n",
    "    ite_r = M-8+1\n",
    "    cnt_list = []\n",
    "    \n",
    "    i = 0\n",
    "    j = 0\n",
    "    \n",
    "    while i<ite_c and j<ite_r:\n",
    "        for m in range(i+8):\n",
    "            for n in range(m,j+8):\n",
    "                if board[m][n] == board[m][n+1] or board[m]\n",
    "                \n",
    "            \n",
    "        \n",
    "    \n",
    "    "
   ]
  },
  {
   "cell_type": "code",
   "execution_count": 6,
   "id": "7ebf7d96",
   "metadata": {},
   "outputs": [],
   "source": [
    "import random \n",
    "\n",
    "N=8\n",
    "M=8\n",
    "c = [\"W\",\"B\"]\n",
    "board=[]\n",
    "for i in range(N):\n",
    "    board.append([])\n",
    "    \n",
    "for i in range(N):\n",
    "    for j in range(M):\n",
    "        board[i].append(random.choice(c))\n",
    "        "
   ]
  },
  {
   "cell_type": "code",
   "execution_count": 7,
   "id": "3456ff06",
   "metadata": {},
   "outputs": [
    {
     "data": {
      "text/plain": [
       "[['B', 'B', 'B', 'B', 'B', 'B', 'B', 'W'],\n",
       " ['B', 'W', 'W', 'B', 'W', 'W', 'B', 'W'],\n",
       " ['B', 'B', 'B', 'W', 'W', 'W', 'W', 'B'],\n",
       " ['W', 'W', 'B', 'W', 'W', 'B', 'W', 'W'],\n",
       " ['W', 'B', 'B', 'B', 'W', 'B', 'B', 'W'],\n",
       " ['W', 'W', 'W', 'W', 'W', 'B', 'B', 'B'],\n",
       " ['B', 'B', 'W', 'W', 'W', 'W', 'B', 'W'],\n",
       " ['B', 'W', 'W', 'B', 'B', 'B', 'W', 'W']]"
      ]
     },
     "execution_count": 7,
     "metadata": {},
     "output_type": "execute_result"
    }
   ],
   "source": [
    "board"
   ]
  },
  {
   "cell_type": "code",
   "execution_count": null,
   "id": "fd6b2cb7",
   "metadata": {},
   "outputs": [],
   "source": []
  },
  {
   "cell_type": "code",
   "execution_count": 3,
   "id": "fae9fe1b",
   "metadata": {},
   "outputs": [
    {
     "data": {
      "text/plain": [
       "'B'"
      ]
     },
     "execution_count": 3,
     "metadata": {},
     "output_type": "execute_result"
    }
   ],
   "source": [
    "import random\n",
    "random.choice(c)"
   ]
  },
  {
   "cell_type": "code",
   "execution_count": 5,
   "id": "deeb8209",
   "metadata": {},
   "outputs": [
    {
     "name": "stdout",
     "output_type": "stream",
     "text": [
      "3 4\n"
     ]
    }
   ],
   "source": [
    "N,M = input().split()\n",
    "N=int(N)\n",
    "M=int(M)"
   ]
  },
  {
   "cell_type": "code",
   "execution_count": null,
   "id": "21487f11",
   "metadata": {},
   "outputs": [],
   "source": []
  }
 ],
 "metadata": {
  "kernelspec": {
   "display_name": "Python 3",
   "language": "python",
   "name": "python3"
  },
  "language_info": {
   "codemirror_mode": {
    "name": "ipython",
    "version": 3
   },
   "file_extension": ".py",
   "mimetype": "text/x-python",
   "name": "python",
   "nbconvert_exporter": "python",
   "pygments_lexer": "ipython3",
   "version": "3.8.8"
  }
 },
 "nbformat": 4,
 "nbformat_minor": 5
}
