{
 "cells": [
  {
   "cell_type": "markdown",
   "metadata": {},
   "source": [
    "## 399 Evaluate Division\n",
    "You are given an array of variable pairs equations and an array of real numbers values, where equations[i] = [Ai, Bi] and values[i] represent the equation Ai / Bi = values[i]. Each Ai or Bi is a string that represents a single variable.\n",
    "\n",
    "You are also given some queries, where queries[j] = [Cj, Dj] represents the jth query where you must find the answer for Cj / Dj = ?.\n",
    "\n",
    "Return the answers to all queries. If a single answer cannot be determined, return -1.0.\n",
    "\n",
    "Note: The input is always valid. You may assume that evaluating the queries will not result in division by zero and that there is no contradiction."
   ]
  },
  {
   "cell_type": "code",
   "execution_count": 97,
   "metadata": {},
   "outputs": [],
   "source": [
    "from collections import defaultdict\n",
    "from typing import List\n",
    "class Solution:\n",
    "    def calcEquation(self, equations: List[List[str]], values: List[float], queries: List[List[str]]) -> List[float]:\n",
    "        ans = []\n",
    "        var_dict = defaultdict(defaultdict)\n",
    "        \n",
    "\n",
    "        \n",
    "        def dfs(var, target, tmp):\n",
    "            if var in var_dict and target in var_dict:\n",
    "                if var_dict[var] and visited[var] == 0:\n",
    "                    visited[var] = 1\n",
    "                    for key in var_dict[var]:\n",
    "                        if key == target:  # 목적지 도달하면 ans에 tmp값 append 하고 탐색 성공했으므로 True 반환\n",
    "                            tmp *= var_dict[var][key]\n",
    "                            ans.append(tmp)\n",
    "                            return True\n",
    "                            \n",
    "                        else:\n",
    "                            if visited[key] == 0: # 목적지는 아니지만 방문하지 않았던 곳이면 tmp에 값 곱해주고 dfs\n",
    "                                tmp *= var_dict[var][key]\n",
    "                                if dfs(key, target, tmp):\n",
    "                                    return True\n",
    "                                else: # False를 return 한 경우에는 tmp 값 다시 돌려주고 그 다음 루트 탐색\n",
    "                                    tmp = tmp / var_dict[var][key]\n",
    "                                    continue\n",
    "\n",
    "              \n",
    "            else: # target에 도달할 수 없거나 변수 값을 모르는 경우에는 탐색 실패 이므로 False 반환\n",
    "                \n",
    "                return False\n",
    "\n",
    "        for query in queries:\n",
    "            visited= dict() # visited는 query 하나마다 초기화 시켜주어야 함\n",
    "            for i in range(len(equations)):\n",
    "                var_dict[equations[i][0]][equations[i][1]] = values[i]\n",
    "                var_dict[equations[i][1]][equations[i][0]] = 1/values[i]\n",
    "                if equations[i][0] not in visited:\n",
    "                    visited[equations[i][0]] = 0\n",
    "                if equations[i][1] not in visited:\n",
    "                    visited[equations[i][1]] = 0\n",
    "            print(ans)\n",
    "            print(var_dict)\n",
    "            if not dfs(query[0], query[1], 1):\n",
    "                ans.append(-1.0)\n",
    "\n",
    "            # print(visited)\n",
    "        return ans\n",
    "\n",
    "        \n",
    "\n",
    "\n",
    "\n",
    "\n",
    "\n",
    "\n",
    "\n",
    "        \n",
    "\n",
    "            \n",
    "            \n",
    "        "
   ]
  },
  {
   "cell_type": "code",
   "execution_count": 98,
   "metadata": {},
   "outputs": [
    {
     "name": "stdout",
     "output_type": "stream",
     "text": [
      "[]\n",
      "defaultdict(<class 'collections.defaultdict'>, {'a': defaultdict(None, {'b': 2.0}), 'b': defaultdict(None, {'a': 0.5, 'c': 3.0}), 'c': defaultdict(None, {'b': 0.3333333333333333})})\n",
      "[6.0]\n",
      "defaultdict(<class 'collections.defaultdict'>, {'a': defaultdict(None, {'b': 2.0}), 'b': defaultdict(None, {'a': 0.5, 'c': 3.0}), 'c': defaultdict(None, {'b': 0.3333333333333333})})\n",
      "[6.0, 0.5]\n",
      "defaultdict(<class 'collections.defaultdict'>, {'a': defaultdict(None, {'b': 2.0}), 'b': defaultdict(None, {'a': 0.5, 'c': 3.0}), 'c': defaultdict(None, {'b': 0.3333333333333333})})\n",
      "[6.0, 0.5, -1.0]\n",
      "defaultdict(<class 'collections.defaultdict'>, {'a': defaultdict(None, {'b': 2.0}), 'b': defaultdict(None, {'a': 0.5, 'c': 3.0}), 'c': defaultdict(None, {'b': 0.3333333333333333})})\n",
      "[6.0, 0.5, -1.0, 1.0]\n",
      "defaultdict(<class 'collections.defaultdict'>, {'a': defaultdict(None, {'b': 2.0}), 'b': defaultdict(None, {'a': 0.5, 'c': 3.0}), 'c': defaultdict(None, {'b': 0.3333333333333333})})\n"
     ]
    },
    {
     "data": {
      "text/plain": [
       "[6.0, 0.5, -1.0, 1.0, -1.0]"
      ]
     },
     "execution_count": 98,
     "metadata": {},
     "output_type": "execute_result"
    }
   ],
   "source": [
    "equations = [[\"a\",\"b\"],[\"b\",\"c\"]]\n",
    "values = [2.0,3.0]\n",
    "queries = [[\"a\",\"c\"],[\"b\",\"a\"],[\"a\",\"e\"],[\"a\",\"a\"],[\"x\",\"x\"]]\n",
    "Solution().calcEquation(equations,values,queries)"
   ]
  },
  {
   "cell_type": "code",
   "execution_count": 99,
   "metadata": {},
   "outputs": [
    {
     "name": "stdout",
     "output_type": "stream",
     "text": [
      "[]\n",
      "defaultdict(<class 'collections.defaultdict'>, {'a': defaultdict(None, {'b': 1.5}), 'b': defaultdict(None, {'a': 0.6666666666666666, 'c': 2.5}), 'c': defaultdict(None, {'b': 0.4}), 'bc': defaultdict(None, {'cd': 5.0}), 'cd': defaultdict(None, {'bc': 0.2})})\n",
      "[3.75]\n",
      "defaultdict(<class 'collections.defaultdict'>, {'a': defaultdict(None, {'b': 1.5}), 'b': defaultdict(None, {'a': 0.6666666666666666, 'c': 2.5}), 'c': defaultdict(None, {'b': 0.4}), 'bc': defaultdict(None, {'cd': 5.0}), 'cd': defaultdict(None, {'bc': 0.2})})\n",
      "[3.75, 0.4]\n",
      "defaultdict(<class 'collections.defaultdict'>, {'a': defaultdict(None, {'b': 1.5}), 'b': defaultdict(None, {'a': 0.6666666666666666, 'c': 2.5}), 'c': defaultdict(None, {'b': 0.4}), 'bc': defaultdict(None, {'cd': 5.0}), 'cd': defaultdict(None, {'bc': 0.2})})\n",
      "[3.75, 0.4, 5.0]\n",
      "defaultdict(<class 'collections.defaultdict'>, {'a': defaultdict(None, {'b': 1.5}), 'b': defaultdict(None, {'a': 0.6666666666666666, 'c': 2.5}), 'c': defaultdict(None, {'b': 0.4}), 'bc': defaultdict(None, {'cd': 5.0}), 'cd': defaultdict(None, {'bc': 0.2})})\n"
     ]
    },
    {
     "data": {
      "text/plain": [
       "[3.75, 0.4, 5.0, 0.2]"
      ]
     },
     "execution_count": 99,
     "metadata": {},
     "output_type": "execute_result"
    }
   ],
   "source": [
    "equations = [[\"a\",\"b\"],[\"b\",\"c\"],[\"bc\",\"cd\"]]\n",
    "values = [1.5,2.5,5.0]\n",
    "queries = [[\"a\",\"c\"],[\"c\",\"b\"],[\"bc\",\"cd\"],[\"cd\",\"bc\"]]\n",
    "Solution().calcEquation(equations,values,queries)"
   ]
  },
  {
   "cell_type": "code",
   "execution_count": 100,
   "metadata": {},
   "outputs": [
    {
     "name": "stdout",
     "output_type": "stream",
     "text": [
      "[]\n",
      "defaultdict(<class 'collections.defaultdict'>, {'a': defaultdict(None, {'b': 0.5}), 'b': defaultdict(None, {'a': 2.0})})\n",
      "[0.5]\n",
      "defaultdict(<class 'collections.defaultdict'>, {'a': defaultdict(None, {'b': 0.5}), 'b': defaultdict(None, {'a': 2.0})})\n",
      "[0.5, 2.0]\n",
      "defaultdict(<class 'collections.defaultdict'>, {'a': defaultdict(None, {'b': 0.5}), 'b': defaultdict(None, {'a': 2.0})})\n",
      "[0.5, 2.0, -1.0]\n",
      "defaultdict(<class 'collections.defaultdict'>, {'a': defaultdict(None, {'b': 0.5}), 'b': defaultdict(None, {'a': 2.0})})\n"
     ]
    },
    {
     "data": {
      "text/plain": [
       "[0.5, 2.0, -1.0, -1.0]"
      ]
     },
     "execution_count": 100,
     "metadata": {},
     "output_type": "execute_result"
    }
   ],
   "source": [
    "equations = [[\"a\",\"b\"]]\n",
    "values = [0.5]\n",
    "queries = [[\"a\",\"b\"],[\"b\",\"a\"],[\"a\",\"c\"],[\"x\",\"y\"]]\n",
    "Solution().calcEquation(equations,values,queries)"
   ]
  },
  {
   "cell_type": "code",
   "execution_count": 101,
   "metadata": {},
   "outputs": [
    {
     "name": "stdout",
     "output_type": "stream",
     "text": [
      "[]\n",
      "defaultdict(<class 'collections.defaultdict'>, {'x1': defaultdict(None, {'x2': 3.0}), 'x2': defaultdict(None, {'x1': 0.3333333333333333, 'x3': 4.0}), 'x3': defaultdict(None, {'x2': 0.25, 'x4': 5.0}), 'x4': defaultdict(None, {'x3': 0.2, 'x5': 6.0}), 'x5': defaultdict(None, {'x4': 0.16666666666666666})})\n",
      "[360.0]\n",
      "defaultdict(<class 'collections.defaultdict'>, {'x1': defaultdict(None, {'x2': 3.0}), 'x2': defaultdict(None, {'x1': 0.3333333333333333, 'x3': 4.0}), 'x3': defaultdict(None, {'x2': 0.25, 'x4': 5.0}), 'x4': defaultdict(None, {'x3': 0.2, 'x5': 6.0}), 'x5': defaultdict(None, {'x4': 0.16666666666666666})})\n",
      "[360.0, 0.008333333333333333]\n",
      "defaultdict(<class 'collections.defaultdict'>, {'x1': defaultdict(None, {'x2': 3.0}), 'x2': defaultdict(None, {'x1': 0.3333333333333333, 'x3': 4.0}), 'x3': defaultdict(None, {'x2': 0.25, 'x4': 5.0}), 'x4': defaultdict(None, {'x3': 0.2, 'x5': 6.0}), 'x5': defaultdict(None, {'x4': 0.16666666666666666})})\n",
      "[360.0, 0.008333333333333333, 20.0]\n",
      "defaultdict(<class 'collections.defaultdict'>, {'x1': defaultdict(None, {'x2': 3.0}), 'x2': defaultdict(None, {'x1': 0.3333333333333333, 'x3': 4.0}), 'x3': defaultdict(None, {'x2': 0.25, 'x4': 5.0}), 'x4': defaultdict(None, {'x3': 0.2, 'x5': 6.0}), 'x5': defaultdict(None, {'x4': 0.16666666666666666})})\n",
      "[360.0, 0.008333333333333333, 20.0, 1.0]\n",
      "defaultdict(<class 'collections.defaultdict'>, {'x1': defaultdict(None, {'x2': 3.0}), 'x2': defaultdict(None, {'x1': 0.3333333333333333, 'x3': 4.0}), 'x3': defaultdict(None, {'x2': 0.25, 'x4': 5.0}), 'x4': defaultdict(None, {'x3': 0.2, 'x5': 6.0}), 'x5': defaultdict(None, {'x4': 0.16666666666666666})})\n",
      "[360.0, 0.008333333333333333, 20.0, 1.0, -1.0]\n",
      "defaultdict(<class 'collections.defaultdict'>, {'x1': defaultdict(None, {'x2': 3.0}), 'x2': defaultdict(None, {'x1': 0.3333333333333333, 'x3': 4.0}), 'x3': defaultdict(None, {'x2': 0.25, 'x4': 5.0}), 'x4': defaultdict(None, {'x3': 0.2, 'x5': 6.0}), 'x5': defaultdict(None, {'x4': 0.16666666666666666})})\n"
     ]
    },
    {
     "data": {
      "text/plain": [
       "[360.0, 0.008333333333333333, 20.0, 1.0, -1.0, -1.0]"
      ]
     },
     "execution_count": 101,
     "metadata": {},
     "output_type": "execute_result"
    }
   ],
   "source": [
    "equations = [[\"x1\",\"x2\"],[\"x2\",\"x3\"],[\"x3\",\"x4\"],[\"x4\",\"x5\"]]\n",
    "values = [3.0,4.0,5.0,6.0]\n",
    "queries = [[\"x1\",\"x5\"],[\"x5\",\"x2\"],[\"x2\",\"x4\"],[\"x2\",\"x2\"],[\"x2\",\"x9\"],[\"x9\",\"x9\"]]\n",
    "Solution().calcEquation(equations,values,queries)"
   ]
  },
  {
   "cell_type": "code",
   "execution_count": 102,
   "metadata": {},
   "outputs": [
    {
     "name": "stdout",
     "output_type": "stream",
     "text": [
      "[]\n",
      "defaultdict(<class 'collections.defaultdict'>, {'x1': defaultdict(None, {'x2': 3.0, 'x4': 3.4}), 'x2': defaultdict(None, {'x1': 0.3333333333333333, 'x3': 0.5, 'x5': 5.6}), 'x3': defaultdict(None, {'x2': 2.0}), 'x4': defaultdict(None, {'x1': 0.29411764705882354}), 'x5': defaultdict(None, {'x2': 0.17857142857142858})})\n",
      "[1.1333333333333333]\n",
      "defaultdict(<class 'collections.defaultdict'>, {'x1': defaultdict(None, {'x2': 3.0, 'x4': 3.4}), 'x2': defaultdict(None, {'x1': 0.3333333333333333, 'x3': 0.5, 'x5': 5.6}), 'x3': defaultdict(None, {'x2': 2.0}), 'x4': defaultdict(None, {'x1': 0.29411764705882354}), 'x5': defaultdict(None, {'x2': 0.17857142857142858})})\n",
      "[1.1333333333333333, 16.799999999999997]\n",
      "defaultdict(<class 'collections.defaultdict'>, {'x1': defaultdict(None, {'x2': 3.0, 'x4': 3.4}), 'x2': defaultdict(None, {'x1': 0.3333333333333333, 'x3': 0.5, 'x5': 5.6}), 'x3': defaultdict(None, {'x2': 2.0}), 'x4': defaultdict(None, {'x1': 0.29411764705882354}), 'x5': defaultdict(None, {'x2': 0.17857142857142858})})\n",
      "[1.1333333333333333, 16.799999999999997, 1.5]\n",
      "defaultdict(<class 'collections.defaultdict'>, {'x1': defaultdict(None, {'x2': 3.0, 'x4': 3.4}), 'x2': defaultdict(None, {'x1': 0.3333333333333333, 'x3': 0.5, 'x5': 5.6}), 'x3': defaultdict(None, {'x2': 2.0}), 'x4': defaultdict(None, {'x1': 0.29411764705882354}), 'x5': defaultdict(None, {'x2': 0.17857142857142858})})\n",
      "[1.1333333333333333, 16.799999999999997, 1.5, 1.0]\n",
      "defaultdict(<class 'collections.defaultdict'>, {'x1': defaultdict(None, {'x2': 3.0, 'x4': 3.4}), 'x2': defaultdict(None, {'x1': 0.3333333333333333, 'x3': 0.5, 'x5': 5.6}), 'x3': defaultdict(None, {'x2': 2.0}), 'x4': defaultdict(None, {'x1': 0.29411764705882354}), 'x5': defaultdict(None, {'x2': 0.17857142857142858})})\n",
      "[1.1333333333333333, 16.799999999999997, 1.5, 1.0, 0.05952380952380952]\n",
      "defaultdict(<class 'collections.defaultdict'>, {'x1': defaultdict(None, {'x2': 3.0, 'x4': 3.4}), 'x2': defaultdict(None, {'x1': 0.3333333333333333, 'x3': 0.5, 'x5': 5.6}), 'x3': defaultdict(None, {'x2': 2.0}), 'x4': defaultdict(None, {'x1': 0.29411764705882354}), 'x5': defaultdict(None, {'x2': 0.17857142857142858})})\n",
      "[1.1333333333333333, 16.799999999999997, 1.5, 1.0, 0.05952380952380952, 2.2666666666666666]\n",
      "defaultdict(<class 'collections.defaultdict'>, {'x1': defaultdict(None, {'x2': 3.0, 'x4': 3.4}), 'x2': defaultdict(None, {'x1': 0.3333333333333333, 'x3': 0.5, 'x5': 5.6}), 'x3': defaultdict(None, {'x2': 2.0}), 'x4': defaultdict(None, {'x1': 0.29411764705882354}), 'x5': defaultdict(None, {'x2': 0.17857142857142858})})\n",
      "[1.1333333333333333, 16.799999999999997, 1.5, 1.0, 0.05952380952380952, 2.2666666666666666, 0.4411764705882353]\n",
      "defaultdict(<class 'collections.defaultdict'>, {'x1': defaultdict(None, {'x2': 3.0, 'x4': 3.4}), 'x2': defaultdict(None, {'x1': 0.3333333333333333, 'x3': 0.5, 'x5': 5.6}), 'x3': defaultdict(None, {'x2': 2.0}), 'x4': defaultdict(None, {'x1': 0.29411764705882354}), 'x5': defaultdict(None, {'x2': 0.17857142857142858})})\n",
      "[1.1333333333333333, 16.799999999999997, 1.5, 1.0, 0.05952380952380952, 2.2666666666666666, 0.4411764705882353, -1.0]\n",
      "defaultdict(<class 'collections.defaultdict'>, {'x1': defaultdict(None, {'x2': 3.0, 'x4': 3.4}), 'x2': defaultdict(None, {'x1': 0.3333333333333333, 'x3': 0.5, 'x5': 5.6}), 'x3': defaultdict(None, {'x2': 2.0}), 'x4': defaultdict(None, {'x1': 0.29411764705882354}), 'x5': defaultdict(None, {'x2': 0.17857142857142858})})\n"
     ]
    },
    {
     "data": {
      "text/plain": [
       "[1.1333333333333333,\n",
       " 16.799999999999997,\n",
       " 1.5,\n",
       " 1.0,\n",
       " 0.05952380952380952,\n",
       " 2.2666666666666666,\n",
       " 0.4411764705882353,\n",
       " -1.0,\n",
       " -1.0]"
      ]
     },
     "execution_count": 102,
     "metadata": {},
     "output_type": "execute_result"
    }
   ],
   "source": [
    "equations = [[\"x1\",\"x2\"],[\"x2\",\"x3\"],[\"x1\",\"x4\"],[\"x2\",\"x5\"]]\n",
    "values = [3.0,0.5,3.4,5.6]\n",
    "queries = [[\"x2\",\"x4\"],[\"x1\",\"x5\"],[\"x1\",\"x3\"],[\"x5\",\"x5\"],[\"x5\",\"x1\"],[\"x3\",\"x4\"],[\"x4\",\"x3\"],[\"x6\",\"x6\"],[\"x0\",\"x0\"]]\n",
    "Solution().calcEquation(equations,values,queries)"
   ]
  },
  {
   "cell_type": "code",
   "execution_count": null,
   "metadata": {},
   "outputs": [],
   "source": []
  },
  {
   "cell_type": "code",
   "execution_count": null,
   "metadata": {},
   "outputs": [],
   "source": []
  }
 ],
 "metadata": {
  "kernelspec": {
   "display_name": "Python 3.10.4 ('finance': conda)",
   "language": "python",
   "name": "python3"
  },
  "language_info": {
   "codemirror_mode": {
    "name": "ipython",
    "version": 3
   },
   "file_extension": ".py",
   "mimetype": "text/x-python",
   "name": "python",
   "nbconvert_exporter": "python",
   "pygments_lexer": "ipython3",
   "version": "3.10.4"
  },
  "orig_nbformat": 4,
  "vscode": {
   "interpreter": {
    "hash": "f76d39cf489bed8dc26aafbbc14437533460a0605c922bd4b38b248201f93bbd"
   }
  }
 },
 "nbformat": 4,
 "nbformat_minor": 2
}
