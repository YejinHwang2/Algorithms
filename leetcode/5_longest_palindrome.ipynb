{
 "cells": [
  {
   "cell_type": "markdown",
   "metadata": {},
   "source": [
    "## 5. Longest Palindromic Substring\n",
    "Given a string s, return the longest palindromic substring in s."
   ]
  },
  {
   "cell_type": "code",
   "execution_count": 29,
   "metadata": {},
   "outputs": [],
   "source": [
    "# Time limit exceeded error\n",
    "# for 문을 2번 돌면서 모든 케이스를 탐색\n",
    "def longestPalindrome(s:str)->str:\n",
    "    if len(s)<=1:\n",
    "        ans = s\n",
    "    length = 1\n",
    "    for i in range(len(s)):\n",
    "        new = s[i]\n",
    "        for j in range(i+1,len(s)):\n",
    "            new = s[i:j+1]\n",
    "            if len(new) < length:\n",
    "                continue\n",
    "            else:\n",
    "                if new == new[::-1]:\n",
    "                    if len(new) >= length:\n",
    "                        ans = new\n",
    "                        length = len(new)\n",
    "    return ans\n"
   ]
  },
  {
   "cell_type": "code",
   "execution_count": 39,
   "metadata": {},
   "outputs": [],
   "source": [
    "# efficient solution\n",
    "# https://sub2n.github.io/2019/04/22/LeetCode-5-Longest-Palindromic-Substring/\n",
    "# for 문을 한번만 돔 (O(N)) \n",
    "# 가장 긴 substring의 시작 index를 i에, 길이는 l에 저장\n",
    "# j로 s를 순회하면서 j보다 l만큼 앞에 있는 index 부터 j까지 (길이 : l+1)에 해당하는 substring이 palindrome인지 확인하고 맞으면 i와 l을 업데이트 한다. (i=j-l, l=l+1)\n",
    "# palindrome이 아닌 경우, 앞으로 한 칸 더 갈 수 있는 경우에 한해 j보다 (l+1)만큼 앞에 있는 index부터 j까지 (길이:l+2)에 해당하는 substring이 palindrome인지 확인하고 맞으면 i와 l을 업데이트 한다.(i=j-l-1, l=l+2)\n",
    "\n",
    "def longestPalindrome(s: str) -> str:\n",
    "        if len(s) <= 1:\n",
    "            return s\n",
    "        i,l=0,0\n",
    "        for j in range(len(s)):\n",
    "            if s[j-l: j+1] == s[j-l: j+1][::-1]:\n",
    "                i, l = j-l, l+1\n",
    "                # print(s[i: i+l])\n",
    "            elif j-l > 0 and s[j-l-1: j+1] == s[j-l-1: j+1][::-1]:\n",
    "                i, l = j-l-1, l+2\n",
    "                # print(s[i: i+l])\n",
    "        return s[i: i+l]"
   ]
  },
  {
   "cell_type": "code",
   "execution_count": 38,
   "metadata": {},
   "outputs": [
    {
     "data": {
      "text/plain": [
       "'bab'"
      ]
     },
     "execution_count": 38,
     "metadata": {},
     "output_type": "execute_result"
    }
   ],
   "source": [
    "s=\"babad\"\n",
    "longestPalindrome(s)"
   ]
  },
  {
   "cell_type": "code",
   "execution_count": 36,
   "metadata": {},
   "outputs": [
    {
     "data": {
      "text/plain": [
       "'bb'"
      ]
     },
     "execution_count": 36,
     "metadata": {},
     "output_type": "execute_result"
    }
   ],
   "source": [
    "s=\"cbbd\"\n",
    "longestPalindrome(s)"
   ]
  },
  {
   "cell_type": "code",
   "execution_count": 32,
   "metadata": {},
   "outputs": [
    {
     "data": {
      "text/plain": [
       "'a'"
      ]
     },
     "execution_count": 32,
     "metadata": {},
     "output_type": "execute_result"
    }
   ],
   "source": [
    "s=\"a\"\n",
    "longestPalindrome(s)"
   ]
  },
  {
   "cell_type": "code",
   "execution_count": 33,
   "metadata": {},
   "outputs": [
    {
     "data": {
      "text/plain": [
       "'ccc'"
      ]
     },
     "execution_count": 33,
     "metadata": {},
     "output_type": "execute_result"
    }
   ],
   "source": [
    "s=\"ccc\"\n",
    "longestPalindrome(s)"
   ]
  },
  {
   "cell_type": "code",
   "execution_count": null,
   "metadata": {},
   "outputs": [],
   "source": []
  }
 ],
 "metadata": {
  "kernelspec": {
   "display_name": "Python 3.10.4 ('finance': conda)",
   "language": "python",
   "name": "python3"
  },
  "language_info": {
   "codemirror_mode": {
    "name": "ipython",
    "version": 3
   },
   "file_extension": ".py",
   "mimetype": "text/x-python",
   "name": "python",
   "nbconvert_exporter": "python",
   "pygments_lexer": "ipython3",
   "version": "3.10.4"
  },
  "orig_nbformat": 4,
  "vscode": {
   "interpreter": {
    "hash": "f76d39cf489bed8dc26aafbbc14437533460a0605c922bd4b38b248201f93bbd"
   }
  }
 },
 "nbformat": 4,
 "nbformat_minor": 2
}
