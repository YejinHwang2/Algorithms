{
 "cells": [
  {
   "cell_type": "markdown",
   "metadata": {},
   "source": [
    "## 96.Unique Binary Search Trees\n",
    "Given an integer n, return the number of structurally unique BST's (binary search trees) which has exactly n nodes of unique values from 1 to n.\n",
    "\n",
    "*reference* \n",
    "https://smlee729.wordpress.com/2018/03/10/algorithm-%EB%AC%B8%EC%A0%9C-unique-binary-search-trees/"
   ]
  },
  {
   "cell_type": "markdown",
   "metadata": {},
   "source": [
    "#### 알고리즘 설명\n",
    "$$ f(0)=1, f(1)=1 $$\n",
    "$$ \\sum_{i=0}^{n-1}f(i)f(n-i-1) $$"
   ]
  },
  {
   "cell_type": "code",
   "execution_count": 1,
   "metadata": {},
   "outputs": [],
   "source": [
    "# Time limit error : recursion\n",
    "class Solution:\n",
    "    def numTrees(self, n: int) -> int:\n",
    "        if n == 0 or n == 1:\n",
    "            return 1\n",
    "        \n",
    "        ans = 0\n",
    "        for i in range(n):\n",
    "            ans += self.numTrees(i) * self.numTrees(n-i-1)\n",
    "        return ans"
   ]
  },
  {
   "cell_type": "code",
   "execution_count": 1,
   "metadata": {},
   "outputs": [],
   "source": [
    "class Solution:\n",
    "    def numTrees(self, n: int) -> int:\n",
    "        ntrees = [0]*(n+1)\n",
    "        ntrees[0] = 1 # base case\n",
    "        ntrees[1] = 1 # base case\n",
    "        if n >= 2:\n",
    "            for i in range(2, n+1):\n",
    "                for j in range(i):\n",
    "                    ntrees[i] += ntrees[j]*ntrees[i-j-1]\n",
    "        return ntrees[n]"
   ]
  },
  {
   "cell_type": "code",
   "execution_count": 2,
   "metadata": {},
   "outputs": [
    {
     "data": {
      "text/plain": [
       "2"
      ]
     },
     "execution_count": 2,
     "metadata": {},
     "output_type": "execute_result"
    }
   ],
   "source": [
    "n = 2\n",
    "Solution().numTrees(n)"
   ]
  },
  {
   "cell_type": "code",
   "execution_count": 3,
   "metadata": {},
   "outputs": [
    {
     "data": {
      "text/plain": [
       "1"
      ]
     },
     "execution_count": 3,
     "metadata": {},
     "output_type": "execute_result"
    }
   ],
   "source": [
    "n = 1\n",
    "Solution().numTrees(n)"
   ]
  },
  {
   "cell_type": "code",
   "execution_count": 4,
   "metadata": {},
   "outputs": [
    {
     "data": {
      "text/plain": [
       "5"
      ]
     },
     "execution_count": 4,
     "metadata": {},
     "output_type": "execute_result"
    }
   ],
   "source": [
    "n = 3\n",
    "Solution().numTrees(n)"
   ]
  }
 ],
 "metadata": {
  "kernelspec": {
   "display_name": "Python 3.10.0 ('smile': conda)",
   "language": "python",
   "name": "python3"
  },
  "language_info": {
   "codemirror_mode": {
    "name": "ipython",
    "version": 3
   },
   "file_extension": ".py",
   "mimetype": "text/x-python",
   "name": "python",
   "nbconvert_exporter": "python",
   "pygments_lexer": "ipython3",
   "version": "3.10.0"
  },
  "orig_nbformat": 4,
  "vscode": {
   "interpreter": {
    "hash": "19b3d09e3e7e604d5b9d8dee40e057f3b76e426413024009107f2f2d8376a262"
   }
  }
 },
 "nbformat": 4,
 "nbformat_minor": 2
}
