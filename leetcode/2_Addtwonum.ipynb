{
 "cells": [
  {
   "cell_type": "markdown",
   "metadata": {},
   "source": [
    "## 2. Add Two Numbers\n",
    "\n",
    "You are given two non-empty linked lists representing two non-negative integers. The digits are stored in reverse order, and each of their nodes contains a single digit. Add the two numbers and return the sum as a linked list.\n",
    "\n",
    "You may assume the two numbers do not contain any leading zero, except the number 0 itself."
   ]
  },
  {
   "cell_type": "code",
   "execution_count": 1,
   "metadata": {},
   "outputs": [],
   "source": [
    "class ListNode:\n",
    "    def __init__(self, val=0, next=None):\n",
    "        self.val = val\n",
    "        self.next = next"
   ]
  },
  {
   "cell_type": "code",
   "execution_count": 12,
   "metadata": {},
   "outputs": [],
   "source": [
    "def addTwoNumbers(l1: ListNode, l2: ListNode):\n",
    "    cur1 = l1\n",
    "    cur2 = l2\n",
    "    num1 = 0\n",
    "    num2 = 0\n",
    "    i,j = 0,0\n",
    "    while cur1:\n",
    "        num1+=(10**i)*cur1.val\n",
    "        cur1 = cur1.next\n",
    "        i+=1\n",
    "    while cur2:\n",
    "        num2+=(10**j)*cur2.val\n",
    "        cur2 = cur2.next\n",
    "        j+=1\n",
    "\n",
    "    num_tot = str(num1+num2)\n",
    "    num_tot_list = list(map(lambda x: int(x), num_tot))\n",
    "    digit = len(num_tot_list)\n",
    "    ans = ListNode(num_tot_list[0])\n",
    "    for i in range(1,digit):\n",
    "        new = ListNode(num_tot_list[i])\n",
    "        new.next = ans\n",
    "        ans = new\n",
    "    return ans\n",
    "        "
   ]
  }
 ],
 "metadata": {
  "kernelspec": {
   "display_name": "Python 3.9.7 ('tff': conda)",
   "language": "python",
   "name": "python3"
  },
  "language_info": {
   "codemirror_mode": {
    "name": "ipython",
    "version": 3
   },
   "file_extension": ".py",
   "mimetype": "text/x-python",
   "name": "python",
   "nbconvert_exporter": "python",
   "pygments_lexer": "ipython3",
   "version": "3.9.7"
  },
  "orig_nbformat": 4,
  "vscode": {
   "interpreter": {
    "hash": "1b6c50d43d570e043644c26dfc1566977692ec35f863a5ee8cf664c884a8e909"
   }
  }
 },
 "nbformat": 4,
 "nbformat_minor": 2
}
