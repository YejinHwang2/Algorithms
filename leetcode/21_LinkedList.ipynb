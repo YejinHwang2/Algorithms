{
 "cells": [
  {
   "cell_type": "markdown",
   "metadata": {},
   "source": [
    "You are given the heads of two sorted linked lists list1 and list2.\n",
    "\n",
    "Merge the two lists in a one sorted list. The list should be made by splicing together the nodes of the first two lists.\n",
    "\n",
    "Return the head of the merged linked list."
   ]
  },
  {
   "cell_type": "code",
   "execution_count": 6,
   "metadata": {},
   "outputs": [],
   "source": [
    "from typing import List\n",
    "from typing import Optional\n",
    "# Definition for singly-linked list.\n",
    "class ListNode:\n",
    "    def __init__(self, val=0, next=None):\n",
    "        self.val = val\n",
    "        self.next = None\n",
    "class Solution:\n",
    "    def mergeTwoLists(self, list1: Optional[ListNode], list2: Optional[ListNode]) -> Optional[ListNode]:\n",
    "        if not list1 and not list2:\n",
    "            return list1\n",
    "        if not list1:\n",
    "            return list2\n",
    "        if not list2:\n",
    "            return list1\n",
    "        \n",
    "        curr1 = list1\n",
    "        curr2 = list2\n",
    "        head = ListNode(0) # sentinel\n",
    "        curr_ans = head\n",
    "\n",
    "        while curr1 and curr2:\n",
    "            if curr1.val < curr2.val:\n",
    "                curr_ans.next = ListNode(curr1.val)\n",
    "                curr1 = curr1.next\n",
    "            else:\n",
    "                curr_ans.next = ListNode(curr2.val)\n",
    "                curr2 = curr2.next\n",
    "\n",
    "            curr_ans = curr_ans.next\n",
    "        \n",
    "        while curr1:\n",
    "            curr_ans.next = ListNode(curr1.val)\n",
    "            curr1 = curr1.next\n",
    "            curr_ans = curr_ans.next\n",
    "        \n",
    "        while curr2:\n",
    "            curr_ans.next = ListNode(curr2.val)\n",
    "            curr2 = curr2.next\n",
    "            curr_ans = curr_ans.next\n",
    "\n",
    "        return head.next\n",
    "\n",
    "    def printVal(self, head) -> List:\n",
    "        ans = []\n",
    "        if not head:\n",
    "            return ans\n",
    "        curr = head\n",
    "        while curr != None:\n",
    "            ans.append(curr.val)\n",
    "            curr = curr.next\n",
    "        return ans    \n",
    "\n",
    "             \n"
   ]
  },
  {
   "cell_type": "code",
   "execution_count": 7,
   "metadata": {},
   "outputs": [],
   "source": [
    "list1 = ListNode(1)\n",
    "list1.next = ListNode(2)\n",
    "list1.next.next = ListNode(4)\n",
    "list2 = ListNode(1)\n",
    "list2.next = ListNode(3)\n",
    "list2.next.next = ListNode(4)"
   ]
  },
  {
   "cell_type": "code",
   "execution_count": 8,
   "metadata": {},
   "outputs": [
    {
     "data": {
      "text/plain": [
       "[1, 1, 2, 3, 4, 4]"
      ]
     },
     "execution_count": 8,
     "metadata": {},
     "output_type": "execute_result"
    }
   ],
   "source": [
    "ans = Solution().mergeTwoLists(list1,list2)\n",
    "Solution().printVal(ans)"
   ]
  },
  {
   "cell_type": "code",
   "execution_count": 9,
   "metadata": {},
   "outputs": [
    {
     "data": {
      "text/plain": [
       "[]"
      ]
     },
     "execution_count": 9,
     "metadata": {},
     "output_type": "execute_result"
    }
   ],
   "source": [
    "list1 = []\n",
    "list2 = []\n",
    "ans = Solution().mergeTwoLists(list1,list2)\n",
    "Solution().printVal(ans)"
   ]
  },
  {
   "cell_type": "code",
   "execution_count": 11,
   "metadata": {},
   "outputs": [
    {
     "data": {
      "text/plain": [
       "[0]"
      ]
     },
     "execution_count": 11,
     "metadata": {},
     "output_type": "execute_result"
    }
   ],
   "source": [
    "list1 = None\n",
    "list2 = ListNode(0)\n",
    "ans = Solution().mergeTwoLists(list1,list2)\n",
    "Solution().printVal(ans)"
   ]
  }
 ],
 "metadata": {
  "kernelspec": {
   "display_name": "Python 3.10.4 ('finance': conda)",
   "language": "python",
   "name": "python3"
  },
  "language_info": {
   "codemirror_mode": {
    "name": "ipython",
    "version": 3
   },
   "file_extension": ".py",
   "mimetype": "text/x-python",
   "name": "python",
   "nbconvert_exporter": "python",
   "pygments_lexer": "ipython3",
   "version": "3.10.4"
  },
  "orig_nbformat": 4,
  "vscode": {
   "interpreter": {
    "hash": "f76d39cf489bed8dc26aafbbc14437533460a0605c922bd4b38b248201f93bbd"
   }
  }
 },
 "nbformat": 4,
 "nbformat_minor": 2
}
