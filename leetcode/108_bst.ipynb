{
 "cells": [
  {
   "cell_type": "markdown",
   "metadata": {},
   "source": [
    "## 108. Convert Sorted Array to Binary Search Tree"
   ]
  },
  {
   "cell_type": "markdown",
   "metadata": {},
   "source": [
    "Given an integer array nums where the elements are sorted in ascending order, convert it to a height-balanced binary search tree.\n",
    "\n",
    "A height-balanced binary tree is a binary tree in which the depth of the two subtrees of every node never differs by more than one."
   ]
  },
  {
   "cell_type": "markdown",
   "metadata": {},
   "source": [
    "출처: bananakun.tistory.com/42 "
   ]
  },
  {
   "cell_type": "code",
   "execution_count": 1,
   "metadata": {},
   "outputs": [],
   "source": [
    "from typing import Optional, List\n",
    "\n",
    "# Definition for a binary tree node.\n",
    "class TreeNode:\n",
    "    def __init__(self, val=0, left=None, right=None):\n",
    "        self.val = val\n",
    "        self.left = left\n",
    "        self.right = right\n",
    "\n",
    "class Solution:\n",
    "    def sortedArrayToBST(self, nums: List[int]) -> Optional[TreeNode]:\n",
    "        def sortToBST(nums):\n",
    "            if len(nums) == 0:\n",
    "                return None\n",
    "            mid = nums[len(nums)//2]\n",
    "            root = TreeNode(mid)\n",
    "            root.left = sortToBST(nums[:len(nums)//2])\n",
    "            root.right = sortToBST(nums[len(nums)//2+1:])\n",
    "            return root\n",
    "\n",
    "        return sortToBST(nums)"
   ]
  }
 ],
 "metadata": {
  "kernelspec": {
   "display_name": "Python 3.8.8 ('base': conda)",
   "language": "python",
   "name": "python3"
  },
  "language_info": {
   "codemirror_mode": {
    "name": "ipython",
    "version": 3
   },
   "file_extension": ".py",
   "mimetype": "text/x-python",
   "name": "python",
   "nbconvert_exporter": "python",
   "pygments_lexer": "ipython3",
   "version": "3.8.8"
  },
  "orig_nbformat": 4,
  "vscode": {
   "interpreter": {
    "hash": "727708c3cdb3c3f496118a21f59f706591203dd8a1521d8d027fa39be58f3bf6"
   }
  }
 },
 "nbformat": 4,
 "nbformat_minor": 2
}
