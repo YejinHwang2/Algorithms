{
 "cells": [
  {
   "cell_type": "code",
   "execution_count": 30,
   "metadata": {},
   "outputs": [],
   "source": [
    "from typing import List\n",
    "def lemonadeChange(bills: List[int]) -> bool:\n",
    "    # bills.sort()\n",
    "    change_dict = dict()\n",
    "    for i in range(len(bills)):\n",
    "        if bills[i] in change_dict:\n",
    "            change_dict[bills[i]]+=1\n",
    "            if bills[i] == 10:\n",
    "                if 5 in change_dict:\n",
    "                    change_dict[5]-=1\n",
    "                else:\n",
    "                    return False\n",
    "            elif bills[i] == 20:\n",
    "                if 10 in change_dict and 5 in change_dict and change_dict[10]>0 and change_dict[5]>0:\n",
    "                    change_dict[10]-=1\n",
    "                    change_dict[5]-=1\n",
    "                elif 5 in change_dict and change_dict[5]>=3:\n",
    "                    change_dict[5]-=3\n",
    "                else:\n",
    "                    return False\n",
    "\n",
    "        else:\n",
    "            change_dict[bills[i]] = 1\n",
    "            if bills[i] == 10:\n",
    "                if 5 in change_dict:\n",
    "                    change_dict[5]-=1\n",
    "                else:\n",
    "                    return False\n",
    "            elif bills[i] == 20:\n",
    "                if 10 in change_dict and 5 in change_dict and change_dict[10]>0 and change_dict[5]>0:\n",
    "                    change_dict[10]-=1\n",
    "                    change_dict[5]-=1\n",
    "                elif 5 in change_dict and change_dict[5]>=3:\n",
    "                    change_dict[5]-=3\n",
    "                else:\n",
    "                    return False\n",
    "    return True"
   ]
  },
  {
   "cell_type": "code",
   "execution_count": 31,
   "metadata": {},
   "outputs": [
    {
     "data": {
      "text/plain": [
       "True"
      ]
     },
     "execution_count": 31,
     "metadata": {},
     "output_type": "execute_result"
    }
   ],
   "source": [
    "bills = [5,5,5,10,20]\n",
    "lemonadeChange(bills)"
   ]
  }
 ],
 "metadata": {
  "interpreter": {
   "hash": "727708c3cdb3c3f496118a21f59f706591203dd8a1521d8d027fa39be58f3bf6"
  },
  "kernelspec": {
   "display_name": "Python 3.8.8 ('base': conda)",
   "language": "python",
   "name": "python3"
  },
  "language_info": {
   "codemirror_mode": {
    "name": "ipython",
    "version": 3
   },
   "file_extension": ".py",
   "mimetype": "text/x-python",
   "name": "python",
   "nbconvert_exporter": "python",
   "pygments_lexer": "ipython3",
   "version": "3.8.8"
  },
  "orig_nbformat": 4
 },
 "nbformat": 4,
 "nbformat_minor": 2
}
