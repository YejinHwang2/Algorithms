{
 "cells": [
  {
   "cell_type": "code",
   "execution_count": null,
   "metadata": {},
   "outputs": [],
   "source": [
    "def solveNQueens(n):\n",
    "    board = []\n",
    "\n",
    "    for i in range(n):\n",
    "        board.append([0]*n)\n",
    "    \n",
    "\n",
    "    def dfs(i,j,n,board):\n",
    "        if board[i][j] == 0:\n",
    "            board[i][j] = \"Q\"\n",
    "\n",
    "        for m in range(n):\n",
    "            if m != i and board[m][j] == 0:\n",
    "                board[m][j] = 1\n",
    "            if m != j and board[i][m] == 0:\n",
    "                board[i][m] = 1\n",
    "\n",
    "        x=i+1\n",
    "        y=j+1\n",
    "        while x < n and y < n:\n",
    "            if board[x][y] == 0:\n",
    "                board[x][y] = 1\n",
    "            x+=1\n",
    "            y+=1\n",
    "        \n",
    "        x=i+1\n",
    "        y=j-1\n",
    "        while x < n and y >= 0:\n",
    "            if board[x][y] == 0:\n",
    "                board[x][y] = 1\n",
    "            x+=1\n",
    "            y-=1\n",
    "\n",
    "        x=i-1\n",
    "        y=j+1\n",
    "        while x >= 0 and y < n:\n",
    "            if board[x][y] == 0:\n",
    "                board[x][y] = 1\n",
    "            x-=1\n",
    "            y+=1\n",
    "\n",
    "        x=i-1\n",
    "        y=j-1\n",
    "        while x >= 0 and y >= 0:\n",
    "            if board[x][y] == 0:\n",
    "                board[x][y] = 1\n",
    "            x-=1\n",
    "            y-=1\n",
    "        \n",
    "    \n",
    "def select_q(board,r,n):\n",
    "    for j in range(n):\n",
    "        if board[r][j] == 0:\n",
    "            return r,j\n",
    "        \n",
    "            \n",
    "\n"
   ]
  },
  {
   "cell_type": "code",
   "execution_count": 2,
   "metadata": {},
   "outputs": [],
   "source": [
    "board = []\n",
    "\n",
    "for i in range(4):\n",
    "    board.append([0]*4)"
   ]
  },
  {
   "cell_type": "code",
   "execution_count": 3,
   "metadata": {},
   "outputs": [
    {
     "data": {
      "text/plain": [
       "[[0, 0, 0, 0], [0, 0, 0, 0], [0, 0, 0, 0], [0, 0, 0, 0]]"
      ]
     },
     "execution_count": 3,
     "metadata": {},
     "output_type": "execute_result"
    }
   ],
   "source": [
    "board"
   ]
  },
  {
   "cell_type": "code",
   "execution_count": null,
   "metadata": {},
   "outputs": [],
   "source": []
  }
 ],
 "metadata": {
  "interpreter": {
   "hash": "727708c3cdb3c3f496118a21f59f706591203dd8a1521d8d027fa39be58f3bf6"
  },
  "kernelspec": {
   "display_name": "Python 3.8.8 ('base': conda)",
   "language": "python",
   "name": "python3"
  },
  "language_info": {
   "codemirror_mode": {
    "name": "ipython",
    "version": 3
   },
   "file_extension": ".py",
   "mimetype": "text/x-python",
   "name": "python",
   "nbconvert_exporter": "python",
   "pygments_lexer": "ipython3",
   "version": "3.8.8"
  },
  "orig_nbformat": 4
 },
 "nbformat": 4,
 "nbformat_minor": 2
}
