{
 "cells": [
  {
   "cell_type": "code",
   "execution_count": 37,
   "metadata": {},
   "outputs": [],
   "source": [
    "import copy\n",
    "\n",
    "def nqueen(n):\n",
    "    def select(board_list, row):\n",
    "        board_new_ver = []\n",
    "        while board_list:\n",
    "            board = board_list.pop()\n",
    "            for col in range(len(board)):\n",
    "                if board[row][col] == 0:\n",
    "                    board_new = copy.deepcopy(board)\n",
    "                    board_new[row][col] = \"Q\"\n",
    "                    board_new = erase(row,col,board_new)\n",
    "                    board_new_ver.insert(0,board_new)\n",
    "                    \n",
    "\n",
    "        return board_new_ver\n",
    "            \n",
    "        \n",
    "    def erase(i,j,board):\n",
    "        for m in range(n):\n",
    "            if m != i and board[m][j] == 0:\n",
    "                board[m][j] = 1\n",
    "            if m != j and board[i][m] == 0:\n",
    "                board[i][m] = 1\n",
    "\n",
    "        x=i+1\n",
    "        y=j+1\n",
    "        while x < n and y < n:\n",
    "            if board[x][y] == 0:\n",
    "                board[x][y] = 1\n",
    "            x+=1\n",
    "            y+=1\n",
    "        \n",
    "        x=i+1\n",
    "        y=j-1\n",
    "        while x < n and y >= 0:\n",
    "            if board[x][y] == 0:\n",
    "                board[x][y] = 1\n",
    "            x+=1\n",
    "            y-=1\n",
    "\n",
    "        x=i-1\n",
    "        y=j+1\n",
    "        while x >= 0 and y < n:\n",
    "            if board[x][y] == 0:\n",
    "                board[x][y] = 1\n",
    "            x-=1\n",
    "            y+=1\n",
    "\n",
    "        x=i-1\n",
    "        y=j-1\n",
    "        while x >= 0 and y >= 0:\n",
    "            if board[x][y] == 0:\n",
    "                board[x][y] = 1\n",
    "            x-=1\n",
    "            y-=1\n",
    "        return board\n",
    "    \n",
    "    board = []\n",
    "    board_version = []\n",
    "    for i in range(n):\n",
    "        board.append([0]*n)\n",
    "    \n",
    "    for row in range(n):\n",
    "        if row == 0:\n",
    "            board_list = []\n",
    "            for col in range(len(board)):\n",
    "                if board[row][col] == 0:\n",
    "                    board_new = copy.deepcopy(board)\n",
    "                    board_new[row][col] = \"Q\"\n",
    "                    board_new = erase(row,col,board_new)\n",
    "                    board_list.append(board_new)\n",
    "                    \n",
    "            \n",
    "        else:\n",
    "            \n",
    "            board_list = select(board_list,row)\n",
    "            \n",
    "    ans_final=[]            \n",
    "    for board in board_list:\n",
    "        ans_list=[]\n",
    "        for i in range(len(board)):\n",
    "            ans=\"\"\n",
    "            for j in range(len(board[i])):\n",
    "                if board[i][j]==1:\n",
    "                    ans+=\".\"\n",
    "                else:\n",
    "                    ans+=\"Q\"\n",
    "            ans_list.append(ans)\n",
    "        ans_final.append(ans_list)\n",
    "\n",
    "    return ans_final\n",
    "        \n",
    "        \n",
    "    \n",
    "        \n",
    "    \n",
    "    "
   ]
  },
  {
   "cell_type": "code",
   "execution_count": 38,
   "metadata": {},
   "outputs": [
    {
     "data": {
      "text/plain": [
       "[['.Q..', '...Q', 'Q...', '..Q.'], ['..Q.', 'Q...', '...Q', '.Q..']]"
      ]
     },
     "execution_count": 38,
     "metadata": {},
     "output_type": "execute_result"
    }
   ],
   "source": [
    "nqueen(4)"
   ]
  }
 ],
 "metadata": {
  "interpreter": {
   "hash": "727708c3cdb3c3f496118a21f59f706591203dd8a1521d8d027fa39be58f3bf6"
  },
  "kernelspec": {
   "display_name": "Python 3",
   "language": "python",
   "name": "python3"
  },
  "language_info": {
   "codemirror_mode": {
    "name": "ipython",
    "version": 3
   },
   "file_extension": ".py",
   "mimetype": "text/x-python",
   "name": "python",
   "nbconvert_exporter": "python",
   "pygments_lexer": "ipython3",
   "version": "3.8.8"
  }
 },
 "nbformat": 4,
 "nbformat_minor": 2
}
