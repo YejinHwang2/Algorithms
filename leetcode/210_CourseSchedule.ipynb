{
 "cells": [
  {
   "cell_type": "markdown",
   "metadata": {},
   "source": [
    "## 210 Course Schedule\n",
    "There are a total of numCourses courses you have to take, labeled from 0 to numCourses - 1. You are given an array prerequisites where prerequisites[i] = [ai, bi] indicates that you must take course bi first if you want to take course ai.\n",
    "\n",
    "For example, the pair [0, 1], indicates that to take course 0 you have to first take course 1.\n",
    "Return the ordering of courses you should take to finish all courses. If there are many valid answers, return any of them. If it is impossible to finish all courses, return an empty array."
   ]
  },
  {
   "cell_type": "code",
   "execution_count": 252,
   "metadata": {},
   "outputs": [],
   "source": [
    "from typing import List\n",
    "\n",
    "class Solution:\n",
    "    def findOrder(self, numCourses: int, prerequisites: List[List[int]]) -> List[int]:\n",
    "        \n",
    "        visited = [0]*numCourses\n",
    "        graph = dict()\n",
    "        for i in range(numCourses):\n",
    "            graph[i]= []\n",
    "        \n",
    "        for course in prerequisites:     \n",
    "            graph[course[0]].append(course[1])\n",
    "            \n",
    "        # print(graph)\n",
    "        \n",
    "        def dfs(ans,course):  \n",
    "            if visited[course] == 2: # loop이 존재\n",
    "                return True\n",
    "            elif visited[course] == 1: # loop이 존재하지 않음\n",
    "                return False\n",
    "\n",
    "            visited[course] = 2\n",
    "            if len(graph[course]) >0:\n",
    "                for c in graph[course]:\n",
    "                    if dfs(ans,c):\n",
    "                        return True\n",
    "                         \n",
    "            visited[course] = 1 # 사이클 없이 탐색 마쳤으므로 2 -> 1로 변경\n",
    "            ans.append(course)\n",
    "            return False       \n",
    "             \n",
    "        ans = []\n",
    "        for i in range(numCourses):\n",
    "            if dfs(ans,i):\n",
    "                return []\n",
    "            \n",
    "        return ans\n",
    "        \n",
    "        "
   ]
  },
  {
   "cell_type": "code",
   "execution_count": 253,
   "metadata": {},
   "outputs": [
    {
     "data": {
      "text/plain": [
       "[0, 1, 2, 3]"
      ]
     },
     "execution_count": 253,
     "metadata": {},
     "output_type": "execute_result"
    }
   ],
   "source": [
    "numCourses = 4\n",
    "prerequisites = [[1,0],[2,0],[3,1],[3,2]]  # {0:[], 1:[0],2:[0],3:[1,2]}\n",
    "Solution().findOrder(numCourses,prerequisites)"
   ]
  },
  {
   "cell_type": "code",
   "execution_count": 254,
   "metadata": {},
   "outputs": [
    {
     "data": {
      "text/plain": [
       "[0, 1]"
      ]
     },
     "execution_count": 254,
     "metadata": {},
     "output_type": "execute_result"
    }
   ],
   "source": [
    "numCourses = 2\n",
    "prerequisites = [[1,0]]\n",
    "Solution().findOrder(numCourses,prerequisites)"
   ]
  },
  {
   "cell_type": "code",
   "execution_count": 255,
   "metadata": {},
   "outputs": [
    {
     "data": {
      "text/plain": [
       "[2, 1, 0]"
      ]
     },
     "execution_count": 255,
     "metadata": {},
     "output_type": "execute_result"
    }
   ],
   "source": [
    "numCourses = 3\n",
    "prerequisites = [[0,1],[0,2],[1,2]] #{0:[1,2],1:[2], 2:[]}\n",
    "Solution().findOrder(numCourses,prerequisites)"
   ]
  },
  {
   "cell_type": "code",
   "execution_count": 256,
   "metadata": {},
   "outputs": [
    {
     "data": {
      "text/plain": [
       "[]"
      ]
     },
     "execution_count": 256,
     "metadata": {},
     "output_type": "execute_result"
    }
   ],
   "source": [
    "numCourses = 2\n",
    "prerequisites = [[0,1],[1,0]]\n",
    "Solution().findOrder(numCourses,prerequisites)"
   ]
  },
  {
   "cell_type": "code",
   "execution_count": null,
   "metadata": {},
   "outputs": [],
   "source": []
  }
 ],
 "metadata": {
  "kernelspec": {
   "display_name": "Python 3.10.4 ('finance': conda)",
   "language": "python",
   "name": "python3"
  },
  "language_info": {
   "codemirror_mode": {
    "name": "ipython",
    "version": 3
   },
   "file_extension": ".py",
   "mimetype": "text/x-python",
   "name": "python",
   "nbconvert_exporter": "python",
   "pygments_lexer": "ipython3",
   "version": "3.10.4"
  },
  "orig_nbformat": 4,
  "vscode": {
   "interpreter": {
    "hash": "f76d39cf489bed8dc26aafbbc14437533460a0605c922bd4b38b248201f93bbd"
   }
  }
 },
 "nbformat": 4,
 "nbformat_minor": 2
}
