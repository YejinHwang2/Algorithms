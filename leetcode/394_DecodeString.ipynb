{
 "cells": [
  {
   "cell_type": "markdown",
   "metadata": {},
   "source": [
    "## 394 Decode String\n",
    "Given an encoded string, return its decoded string.\n",
    "\n",
    "The encoding rule is: k[encoded_string], where the encoded_string inside the square brackets is being repeated exactly k times. Note that k is guaranteed to be a positive integer.\n",
    "\n",
    "You may assume that the input string is always valid; there are no extra white spaces, square brackets are well-formed, etc. Furthermore, you may assume that the original data does not contain any digits and that digits are only for those repeat numbers, k. For example, there will not be input like 3a or 2[4].\n",
    "\n",
    "The test cases are generated so that the length of the output will never exceed 105"
   ]
  },
  {
   "cell_type": "code",
   "execution_count": 14,
   "metadata": {},
   "outputs": [],
   "source": [
    "# solution\n",
    "# https://folivora.tistory.com/84\n",
    "\n",
    "def decodeString(s:str)->str:\n",
    "    stack = []\n",
    "    i = 0\n",
    "    while i < len(s):\n",
    "        cur = s[i]\n",
    "        if cur == \"]\":\n",
    "            seq = \"\"\n",
    "            while stack:\n",
    "                tmp = stack.pop()\n",
    "                if tmp == \"[\":\n",
    "                    rep = stack.pop()\n",
    "                    stack.append(seq*rep)\n",
    "                    print(stack)\n",
    "                    break\n",
    "                else:\n",
    "                    seq = tmp +seq\n",
    "            \n",
    "            i += 1\n",
    "        \n",
    "        # isdigit(): 문자열이 숫자로만 이루어졌는지 확인하는 함수\n",
    "        elif cur.isdigit():\n",
    "            cur_int = 0\n",
    "            while s[i].isdigit():\n",
    "                cur_int = 10*cur_int + int(s[i])\n",
    "                i += 1\n",
    "            stack.append(cur_int)\n",
    "            print(stack)\n",
    "        else:\n",
    "            stack.append(cur)\n",
    "            print(stack)\n",
    "            i += 1 \n",
    "\n",
    "    return \"\".join(stack)\n",
    "\n",
    "\n",
    "\n",
    "\n"
   ]
  },
  {
   "cell_type": "code",
   "execution_count": 15,
   "metadata": {},
   "outputs": [
    {
     "name": "stdout",
     "output_type": "stream",
     "text": [
      "[3]\n",
      "[3, '[']\n",
      "[3, '[', 'a']\n",
      "['aaa']\n",
      "['aaa', 2]\n",
      "['aaa', 2, '[']\n",
      "['aaa', 2, '[', 'b']\n",
      "['aaa', 2, '[', 'b', 'c']\n",
      "['aaa', 'bcbc']\n"
     ]
    },
    {
     "data": {
      "text/plain": [
       "'aaabcbc'"
      ]
     },
     "execution_count": 15,
     "metadata": {},
     "output_type": "execute_result"
    }
   ],
   "source": [
    "s = \"3[a]2[bc]\"\n",
    "decodeString(s)"
   ]
  },
  {
   "cell_type": "code",
   "execution_count": null,
   "metadata": {},
   "outputs": [],
   "source": []
  }
 ],
 "metadata": {
  "kernelspec": {
   "display_name": "Python 3.10.0 ('finance': conda)",
   "language": "python",
   "name": "python3"
  },
  "language_info": {
   "codemirror_mode": {
    "name": "ipython",
    "version": 3
   },
   "file_extension": ".py",
   "mimetype": "text/x-python",
   "name": "python",
   "nbconvert_exporter": "python",
   "pygments_lexer": "ipython3",
   "version": "3.10.0"
  },
  "orig_nbformat": 4,
  "vscode": {
   "interpreter": {
    "hash": "f76d39cf489bed8dc26aafbbc14437533460a0605c922bd4b38b248201f93bbd"
   }
  }
 },
 "nbformat": 4,
 "nbformat_minor": 2
}
