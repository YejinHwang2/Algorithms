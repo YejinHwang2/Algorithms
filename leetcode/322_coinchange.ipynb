{
 "cells": [
  {
   "cell_type": "markdown",
   "metadata": {},
   "source": [
    "## 322. Coin change\n",
    "You are given an integer array coins representing coins of different denominations and an integer amount representing a total amount of money.\n",
    "\n",
    "Return the fewest number of coins that you need to make up that amount. If that amount of money cannot be made up by any combination of the coins, return -1.\n",
    "You may assume that you have an infinite number of each kind of coin."
   ]
  },
  {
   "cell_type": "code",
   "execution_count": 6,
   "metadata": {},
   "outputs": [],
   "source": [
    "## 잘못된 코드\n",
    "\n",
    "from typing import List \n",
    "def coinChange(coins: List[int], amount: int) -> int:\n",
    "\n",
    "    coins = sorted(coins)\n",
    "    ans = 0 \n",
    "   \n",
    "    \n",
    "    for i in range(len(coins)):\n",
    "        q = amount // coins[i]\n",
    "        if q > 0:\n",
    "            ans += q\n",
    "            amount = amount % coins[i]\n",
    "    if amount != 0:\n",
    "        return -1\n",
    "\n",
    "    return ans\n",
    "    \n"
   ]
  },
  {
   "cell_type": "code",
   "execution_count": 7,
   "metadata": {},
   "outputs": [],
   "source": [
    "# 솔루션 \n",
    "\n",
    "def coinChange(coins: List[int], amount: int) -> int:\n",
    "    d = [2**31-1]*(amount+1)\n",
    "    d[0] = 0\n",
    "    for coin in coins:\n",
    "        for i in range(coin,amount+1):\n",
    "            d[i] = min(d[i], d[i-coin]+1)\n",
    "            print(d)\n",
    "    if d[amount] == (2**31-1):\n",
    "        return -1\n",
    "    \n",
    "    return d[amount]\n",
    "        "
   ]
  },
  {
   "cell_type": "code",
   "execution_count": 8,
   "metadata": {},
   "outputs": [
    {
     "name": "stdout",
     "output_type": "stream",
     "text": [
      "[0, 1, 2147483647, 2147483647, 2147483647, 2147483647, 2147483647, 2147483647, 2147483647, 2147483647, 2147483647, 2147483647]\n",
      "[0, 1, 2, 2147483647, 2147483647, 2147483647, 2147483647, 2147483647, 2147483647, 2147483647, 2147483647, 2147483647]\n",
      "[0, 1, 2, 3, 2147483647, 2147483647, 2147483647, 2147483647, 2147483647, 2147483647, 2147483647, 2147483647]\n",
      "[0, 1, 2, 3, 4, 2147483647, 2147483647, 2147483647, 2147483647, 2147483647, 2147483647, 2147483647]\n",
      "[0, 1, 2, 3, 4, 5, 2147483647, 2147483647, 2147483647, 2147483647, 2147483647, 2147483647]\n",
      "[0, 1, 2, 3, 4, 5, 6, 2147483647, 2147483647, 2147483647, 2147483647, 2147483647]\n",
      "[0, 1, 2, 3, 4, 5, 6, 7, 2147483647, 2147483647, 2147483647, 2147483647]\n",
      "[0, 1, 2, 3, 4, 5, 6, 7, 8, 2147483647, 2147483647, 2147483647]\n",
      "[0, 1, 2, 3, 4, 5, 6, 7, 8, 9, 2147483647, 2147483647]\n",
      "[0, 1, 2, 3, 4, 5, 6, 7, 8, 9, 10, 2147483647]\n",
      "[0, 1, 2, 3, 4, 5, 6, 7, 8, 9, 10, 11]\n",
      "[0, 1, 1, 3, 4, 5, 6, 7, 8, 9, 10, 11]\n",
      "[0, 1, 1, 2, 4, 5, 6, 7, 8, 9, 10, 11]\n",
      "[0, 1, 1, 2, 2, 5, 6, 7, 8, 9, 10, 11]\n",
      "[0, 1, 1, 2, 2, 3, 6, 7, 8, 9, 10, 11]\n",
      "[0, 1, 1, 2, 2, 3, 3, 7, 8, 9, 10, 11]\n",
      "[0, 1, 1, 2, 2, 3, 3, 4, 8, 9, 10, 11]\n",
      "[0, 1, 1, 2, 2, 3, 3, 4, 4, 9, 10, 11]\n",
      "[0, 1, 1, 2, 2, 3, 3, 4, 4, 5, 10, 11]\n",
      "[0, 1, 1, 2, 2, 3, 3, 4, 4, 5, 5, 11]\n",
      "[0, 1, 1, 2, 2, 3, 3, 4, 4, 5, 5, 6]\n",
      "[0, 1, 1, 2, 2, 1, 3, 4, 4, 5, 5, 6]\n",
      "[0, 1, 1, 2, 2, 1, 2, 4, 4, 5, 5, 6]\n",
      "[0, 1, 1, 2, 2, 1, 2, 2, 4, 5, 5, 6]\n",
      "[0, 1, 1, 2, 2, 1, 2, 2, 3, 5, 5, 6]\n",
      "[0, 1, 1, 2, 2, 1, 2, 2, 3, 3, 5, 6]\n",
      "[0, 1, 1, 2, 2, 1, 2, 2, 3, 3, 2, 6]\n",
      "[0, 1, 1, 2, 2, 1, 2, 2, 3, 3, 2, 3]\n"
     ]
    },
    {
     "data": {
      "text/plain": [
       "3"
      ]
     },
     "execution_count": 8,
     "metadata": {},
     "output_type": "execute_result"
    }
   ],
   "source": [
    "coins = [1,2,5]\n",
    "amount = 11\n",
    "coinChange(coins,amount)"
   ]
  },
  {
   "cell_type": "code",
   "execution_count": null,
   "metadata": {},
   "outputs": [],
   "source": []
  }
 ],
 "metadata": {
  "kernelspec": {
   "display_name": "Python 3.9.7 ('tff': conda)",
   "language": "python",
   "name": "python3"
  },
  "language_info": {
   "codemirror_mode": {
    "name": "ipython",
    "version": 3
   },
   "file_extension": ".py",
   "mimetype": "text/x-python",
   "name": "python",
   "nbconvert_exporter": "python",
   "pygments_lexer": "ipython3",
   "version": "3.9.7"
  },
  "orig_nbformat": 4,
  "vscode": {
   "interpreter": {
    "hash": "1b6c50d43d570e043644c26dfc1566977692ec35f863a5ee8cf664c884a8e909"
   }
  }
 },
 "nbformat": 4,
 "nbformat_minor": 2
}
