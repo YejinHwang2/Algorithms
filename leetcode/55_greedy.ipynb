{
 "cells": [
  {
   "cell_type": "code",
   "execution_count": 2,
   "metadata": {},
   "outputs": [],
   "source": [
    "from typing import List\n",
    "def canJump(nums: List[int])->bool:\n",
    "    idx = 0\n",
    "    while idx < len(nums):\n",
    "        jump = nums[idx]\n",
    "        if jump >= len(nums)-1-idx:\n",
    "            return True\n",
    "        next = [idx+i for i in range(1,jump+1)]\n",
    "        next_list = [nums[j] for j in next]\n",
    "      \n",
    "        if next == []:\n",
    "            return False      \n",
    "        else:\n",
    "            idx = nums[idx+1:].index(max(next_list))+idx+1\n",
    "            if idx == len(nums)-1:\n",
    "                return True\n",
    "            print(idx)\n",
    "            \n",
    "            \n",
    "            \n",
    "    "
   ]
  },
  {
   "cell_type": "code",
   "execution_count": 3,
   "metadata": {},
   "outputs": [],
   "source": [
    "def canJump(nums:List[int])->bool:\n",
    "    i,d = 0,0\n",
    "    while i<=d:\n",
    "        d = max(d, i+nums[i])\n",
    "        if d >= len(nums)-1:\n",
    "            return True\n",
    "        i+=1\n",
    "    return False"
   ]
  },
  {
   "cell_type": "code",
   "execution_count": 4,
   "metadata": {},
   "outputs": [
    {
     "data": {
      "text/plain": [
       "True"
      ]
     },
     "execution_count": 4,
     "metadata": {},
     "output_type": "execute_result"
    }
   ],
   "source": [
    "nums=[5,9,3,2,1,0,2,3,3,1,0,0]\n",
    "canJump(nums)"
   ]
  },
  {
   "cell_type": "code",
   "execution_count": 6,
   "metadata": {},
   "outputs": [
    {
     "data": {
      "text/plain": [
       "True"
      ]
     },
     "execution_count": 6,
     "metadata": {},
     "output_type": "execute_result"
    }
   ],
   "source": [
    "nums=[2,3,1,1,4]\n",
    "canJump(nums)"
   ]
  },
  {
   "cell_type": "code",
   "execution_count": 5,
   "metadata": {},
   "outputs": [
    {
     "data": {
      "text/plain": [
       "False"
      ]
     },
     "execution_count": 5,
     "metadata": {},
     "output_type": "execute_result"
    }
   ],
   "source": [
    "nums=[3,2,1,0,4]\n",
    "canJump(nums)"
   ]
  }
 ],
 "metadata": {
  "interpreter": {
   "hash": "727708c3cdb3c3f496118a21f59f706591203dd8a1521d8d027fa39be58f3bf6"
  },
  "kernelspec": {
   "display_name": "Python 3",
   "language": "python",
   "name": "python3"
  },
  "language_info": {
   "codemirror_mode": {
    "name": "ipython",
    "version": 3
   },
   "file_extension": ".py",
   "mimetype": "text/x-python",
   "name": "python",
   "nbconvert_exporter": "python",
   "pygments_lexer": "ipython3",
   "version": "3.8.8"
  }
 },
 "nbformat": 4,
 "nbformat_minor": 2
}
