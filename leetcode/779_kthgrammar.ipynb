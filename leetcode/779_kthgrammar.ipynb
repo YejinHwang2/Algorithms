{
 "cells": [
  {
   "cell_type": "markdown",
   "metadata": {},
   "source": [
    "## 779. K-th Symbol in Grammar\n",
    "\n",
    "We build a table of n rows (1-indexed). We start by writing 0 in the 1st row. Now in every subsequent row, we look at the previous row and replace each occurrence of 0 with 01, and each occurrence of 1 with 10.\n",
    "\n",
    "For example, for n = 3, the 1st row is 0, the 2nd row is 01, and the 3rd row is 0110.\n",
    "Given two integer n and k, return the kth (1-indexed) symbol in the nth row of a table of n rows."
   ]
  },
  {
   "cell_type": "code",
   "execution_count": 3,
   "metadata": {},
   "outputs": [],
   "source": [
    "# Time limit Error\n",
    "\n",
    "def kthGrammar(n: int, k: int) -> int:\n",
    "    def makestr(s: str):\n",
    "        ans = \"\"\n",
    "        for c in s:\n",
    "            if c == \"0\":\n",
    "                ans+=\"01\"\n",
    "            else:\n",
    "                ans+=\"10\"\n",
    "        return ans\n",
    "\n",
    "    ans = \"0\"\n",
    "    for i in range(n):\n",
    "        ans = makestr(ans)\n",
    "\n",
    "    return int(ans[k-1])\n",
    "        "
   ]
  },
  {
   "cell_type": "code",
   "execution_count": 4,
   "metadata": {},
   "outputs": [],
   "source": [
    "# Time limit error\n",
    "\n",
    "def kthGrammar(n: int, k: int) -> int:\n",
    "    def makestr(s: str):\n",
    "        ans = \"\"\n",
    "        if len(s) == 1:\n",
    "            return \"01\"\n",
    "        for i in range(len(s)//2):\n",
    "            if s[i] == \"0\":\n",
    "                ans += \"01\"\n",
    "            else:\n",
    "                ans += \"10\"\n",
    "        \n",
    "        ans += ans[::-1]\n",
    "        return ans\n",
    "    \n",
    "    ans = \"0\"\n",
    "    for i in range(n):\n",
    "        ans = makestr(ans)\n",
    "   \n",
    "    return int(ans[k-1])\n",
    "\n",
    "\n",
    "       "
   ]
  },
  {
   "cell_type": "code",
   "execution_count": 10,
   "metadata": {},
   "outputs": [],
   "source": [
    "# working solution\n",
    "\n",
    "def kthGrammar(N: int, K: int ) -> int:\n",
    "\n",
    "    def kthGrammarHelp(N,K):\n",
    "        if N ==1:\n",
    "            if K == 1:\n",
    "                return 0\n",
    "            else:\n",
    "                return 1\n",
    "        halfpoint = (2**N) // 2\n",
    "\n",
    "        if K <= halfpoint:\n",
    "            return kthGrammarHelp(N-1,K)\n",
    "        \n",
    "        else:\n",
    "            result = 1 - kthGrammarHelp(N-1,K-halfpoint)\n",
    "            return result\n",
    "            \n",
    "    if N == 1:\n",
    "        return 0\n",
    "    return kthGrammarHelp(N-1,K)\n",
    "\n",
    "    \n",
    "            \n",
    "\n"
   ]
  },
  {
   "cell_type": "code",
   "execution_count": 11,
   "metadata": {},
   "outputs": [
    {
     "data": {
      "text/plain": [
       "0"
      ]
     },
     "execution_count": 11,
     "metadata": {},
     "output_type": "execute_result"
    }
   ],
   "source": [
    "kthGrammar(1,1)"
   ]
  },
  {
   "cell_type": "code",
   "execution_count": 12,
   "metadata": {},
   "outputs": [
    {
     "data": {
      "text/plain": [
       "0"
      ]
     },
     "execution_count": 12,
     "metadata": {},
     "output_type": "execute_result"
    }
   ],
   "source": [
    "kthGrammar(2,1)"
   ]
  },
  {
   "cell_type": "code",
   "execution_count": 13,
   "metadata": {},
   "outputs": [
    {
     "data": {
      "text/plain": [
       "1"
      ]
     },
     "execution_count": 13,
     "metadata": {},
     "output_type": "execute_result"
    }
   ],
   "source": [
    "kthGrammar(2,2)"
   ]
  }
 ],
 "metadata": {
  "kernelspec": {
   "display_name": "Python 3.10.0 ('finance': conda)",
   "language": "python",
   "name": "python3"
  },
  "language_info": {
   "codemirror_mode": {
    "name": "ipython",
    "version": 3
   },
   "file_extension": ".py",
   "mimetype": "text/x-python",
   "name": "python",
   "nbconvert_exporter": "python",
   "pygments_lexer": "ipython3",
   "version": "3.10.0"
  },
  "orig_nbformat": 4,
  "vscode": {
   "interpreter": {
    "hash": "f76d39cf489bed8dc26aafbbc14437533460a0605c922bd4b38b248201f93bbd"
   }
  }
 },
 "nbformat": 4,
 "nbformat_minor": 2
}
