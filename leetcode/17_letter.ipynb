{
 "cells": [
  {
   "cell_type": "markdown",
   "metadata": {},
   "source": [
    "## 17. Letter Combinations of a Phone Number\n",
    "Given a string containing digits from 2-9 inclusive, return all possible letter combinations that the number could represent. Return the answer in any order.\n",
    "\n",
    "A mapping of digits to letters (just like on the telephone buttons) is given below. Note that 1 does not map to any letters."
   ]
  },
  {
   "cell_type": "code",
   "execution_count": 25,
   "metadata": {},
   "outputs": [],
   "source": [
    "# solution 1: DFS\n",
    "\n",
    "from typing import List\n",
    "class Solution:\n",
    "    def letterCombinations(self, digits: str) -> List[str]:\n",
    "        \n",
    "        digit_dic = {\"2\":\"abc\" , \"3\":\"def\", \"4\":\"ghi\",\"5\":\"jkl\",\"6\":\"mno\",\"7\":\"pqrs\",\"8\":\"tuv\", \"9\":\"wxyz\"}\n",
    "    \n",
    "        def dfs(path, ind):\n",
    "            # print(path)\n",
    "            if len(path) == len(digits):\n",
    "                ans.append(path)\n",
    "                return\n",
    "            else:\n",
    "                for i in range(ind, len(digits)):\n",
    "                    for j in digit_dic[digits[i]]:\n",
    "                        dfs(path+j,i+1)\n",
    "                        \n",
    "        \n",
    "        if not digits:\n",
    "            return []\n",
    "        \n",
    "        ans = []\n",
    "        dfs(\"\", 0)\n",
    "        return ans\n"
   ]
  },
  {
   "cell_type": "code",
   "execution_count": 26,
   "metadata": {},
   "outputs": [
    {
     "name": "stdout",
     "output_type": "stream",
     "text": [
      "\n",
      "a\n",
      "ad\n",
      "ae\n",
      "af\n",
      "b\n",
      "bd\n",
      "be\n",
      "bf\n",
      "c\n",
      "cd\n",
      "ce\n",
      "cf\n",
      "d\n",
      "e\n",
      "f\n"
     ]
    },
    {
     "data": {
      "text/plain": [
       "['ad', 'ae', 'af', 'bd', 'be', 'bf', 'cd', 'ce', 'cf']"
      ]
     },
     "execution_count": 26,
     "metadata": {},
     "output_type": "execute_result"
    }
   ],
   "source": [
    "digits = \"23\"\n",
    "Solution().letterCombinations(digits)"
   ]
  },
  {
   "cell_type": "code",
   "execution_count": 1,
   "metadata": {},
   "outputs": [],
   "source": [
    "# solution 2: bruteforce\n",
    "\n",
    "from typing import List\n",
    "class Solution:\n",
    "    def letterCombinations(self, digits: str) -> List[str]:\n",
    "        \n",
    "        digit_dic = {\"2\":\"abc\" , \"3\":\"def\", \"4\":\"ghi\",\"5\":\"jkl\",\"6\":\"mno\",\"7\":\"pqrs\",\"8\":\"tuv\", \"9\":\"wxyz\"}\n",
    "        ans = []\n",
    "        for digit in digits:\n",
    "            if not ans:\n",
    "                ans = digit_dic[digit]\n",
    "            else:\n",
    "                tmp = []\n",
    "                for r in ans:\n",
    "                    for l in digit_dic[digit]:\n",
    "                        tmp.append(r+l)\n",
    "                ans = tmp\n",
    "        return ans"
   ]
  },
  {
   "cell_type": "code",
   "execution_count": 6,
   "metadata": {},
   "outputs": [
    {
     "data": {
      "text/plain": [
       "['ad', 'ae', 'af', 'bd', 'be', 'bf', 'cd', 'ce', 'cf']"
      ]
     },
     "execution_count": 6,
     "metadata": {},
     "output_type": "execute_result"
    }
   ],
   "source": [
    "digits = \"23\"\n",
    "Solution().letterCombinations(digits)"
   ]
  }
 ],
 "metadata": {
  "kernelspec": {
   "display_name": "Python 3.10.4 ('finance': conda)",
   "language": "python",
   "name": "python3"
  },
  "language_info": {
   "codemirror_mode": {
    "name": "ipython",
    "version": 3
   },
   "file_extension": ".py",
   "mimetype": "text/x-python",
   "name": "python",
   "nbconvert_exporter": "python",
   "pygments_lexer": "ipython3",
   "version": "3.10.4"
  },
  "orig_nbformat": 4,
  "vscode": {
   "interpreter": {
    "hash": "f76d39cf489bed8dc26aafbbc14437533460a0605c922bd4b38b248201f93bbd"
   }
  }
 },
 "nbformat": 4,
 "nbformat_minor": 2
}
