{
 "cells": [
  {
   "cell_type": "markdown",
   "metadata": {},
   "source": [
    "## 89. Gray Code\n",
    "An n-bit gray code sequence is a sequence of 2n integers where:\n",
    "\n",
    "Every integer is in the inclusive range [0, 2n - 1],\n",
    "The first integer is 0,\n",
    "An integer appears no more than once in the sequence,\n",
    "The binary representation of every pair of adjacent integers differs by exactly one bit, and\n",
    "The binary representation of the first and last integers differs by exactly one bit.\n",
    "Given an integer n, return any valid n-bit gray code sequence."
   ]
  },
  {
   "cell_type": "markdown",
   "metadata": {},
   "source": [
    "백트래킹: DFS를 사용하여 만약 조건에 맞지 않으면 그 즉시 중단하고 이전으로 돌아가여 다시 확인하는 것을 반복하면서 원하는 조건을 찾는 알고리즘"
   ]
  },
  {
   "cell_type": "code",
   "execution_count": 37,
   "metadata": {},
   "outputs": [],
   "source": [
    "def graycode(n):\n",
    "    def dfs():\n",
    "        # print(path)\n",
    "        \n",
    "        if len(path) == 2**n:\n",
    "            return path[:]\n",
    "        num = path[-1] # dfs는 stack\n",
    "        visited[num] = 1\n",
    "        # print(visited)\n",
    "        for i in range(n):\n",
    "            cand = num ^ 1 << i ## bit 하나 차이 나는 수\n",
    "            if not visited[cand]:\n",
    "                path.append(cand)\n",
    "                ret = dfs()\n",
    "                # return ret\n",
    "                if ret:\n",
    "                    return ret\n",
    "                \n",
    "                path.pop()  # 잘못 갔을 경우 되돌아가기 위한 코드 이지만 사실 이 경우엔 필요 없음.. 돌아가지 않고 찾아갈 수 있음\n",
    "                \n",
    "        visited[num] = 0\n",
    "\n",
    "    path = [0]\n",
    "    visited = [0]*(2**n)\n",
    "    return dfs()\n",
    "\n",
    "\n",
    "\n"
   ]
  }
 ],
 "metadata": {
  "kernelspec": {
   "display_name": "Python 3.10.4 ('finance': conda)",
   "language": "python",
   "name": "python3"
  },
  "language_info": {
   "codemirror_mode": {
    "name": "ipython",
    "version": 3
   },
   "file_extension": ".py",
   "mimetype": "text/x-python",
   "name": "python",
   "nbconvert_exporter": "python",
   "pygments_lexer": "ipython3",
   "version": "3.10.4"
  },
  "orig_nbformat": 4,
  "vscode": {
   "interpreter": {
    "hash": "f76d39cf489bed8dc26aafbbc14437533460a0605c922bd4b38b248201f93bbd"
   }
  }
 },
 "nbformat": 4,
 "nbformat_minor": 2
}
