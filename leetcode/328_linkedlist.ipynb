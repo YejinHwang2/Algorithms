{
 "cells": [
  {
   "cell_type": "markdown",
   "metadata": {},
   "source": [
    "## 328. Odd Even Linked List\n",
    "\n",
    "Given the head of a singly linked list, group all the nodes with odd indices together followed by the nodes with even indices, and return the reordered list.\n",
    "\n",
    "The first node is considered odd, and the second node is even, and so on.\n",
    "\n",
    "Note that the relative order inside both the even and odd groups should remain as it was in the input.\n",
    "\n",
    "You must solve the problem in O(1) extra space complexity and O(n) time complexity."
   ]
  },
  {
   "cell_type": "code",
   "execution_count": 41,
   "metadata": {},
   "outputs": [],
   "source": [
    "from typing import Optional, OrderedDict\n",
    "# Definition for singly-linked list.\n",
    "class ListNode:\n",
    "    def __init__(self, val=0, next=None):\n",
    "        self.val = val\n",
    "        self.next = next\n",
    "class Solution:\n",
    "    def oddEvenList(self, head: Optional[ListNode]) -> Optional[ListNode]:\n",
    "        odd = head\n",
    "        if not head:\n",
    "            return odd\n",
    "        if head.next:\n",
    "            even = head.next\n",
    "            curr1 = odd\n",
    "            curr2 = even\n",
    "            while curr1.next and curr2.next:\n",
    "                if curr1 and curr1.next:\n",
    "                    curr1.next = curr1.next.next\n",
    "                    curr1 = curr1.next\n",
    "                if curr2 and curr2.next:\n",
    "                    curr2.next = curr2.next.next\n",
    "                    curr2 = curr2.next\n",
    "            # linkedlist 노드 개수 짝수 일 때 odd의 마지막이 linkedlist의 마지막 노드 (마지막짝수번째)를 가리키지 않도록 하기 위해서\n",
    "            if curr1.next:\n",
    "                curr1.next = curr1.next.next\n",
    "\n",
    "            curr = odd\n",
    "            while curr.next:\n",
    "                curr = curr.next\n",
    "            curr.next = even\n",
    "        return odd\n",
    "        "
   ]
  },
  {
   "cell_type": "code",
   "execution_count": 42,
   "metadata": {},
   "outputs": [],
   "source": [
    "def makeListNode(node_list:list):\n",
    "    if node_list:\n",
    "        head = ListNode(node_list[0])\n",
    "    else:\n",
    "        return None\n",
    "    curr = head\n",
    "    for node in node_list[1:]:\n",
    "        curr.next = ListNode(node)\n",
    "        curr = curr.next\n",
    "    return head\n",
    "def printNode(head):\n",
    "    while head:\n",
    "        print(head.val)\n",
    "        head = head.next"
   ]
  },
  {
   "cell_type": "code",
   "execution_count": 43,
   "metadata": {},
   "outputs": [],
   "source": [
    "head = [1,2,3,4,5]\n",
    "head = makeListNode(head)"
   ]
  },
  {
   "cell_type": "code",
   "execution_count": 44,
   "metadata": {},
   "outputs": [],
   "source": [
    "ans = Solution().oddEvenList(head)"
   ]
  },
  {
   "cell_type": "code",
   "execution_count": 45,
   "metadata": {},
   "outputs": [
    {
     "name": "stdout",
     "output_type": "stream",
     "text": [
      "1\n",
      "3\n",
      "5\n",
      "2\n",
      "4\n"
     ]
    }
   ],
   "source": [
    "printNode(ans)"
   ]
  },
  {
   "cell_type": "code",
   "execution_count": 46,
   "metadata": {},
   "outputs": [],
   "source": [
    "head = [2,1,3,5,6,4,7]\n",
    "head = makeListNode(head)"
   ]
  },
  {
   "cell_type": "code",
   "execution_count": 47,
   "metadata": {},
   "outputs": [
    {
     "name": "stdout",
     "output_type": "stream",
     "text": [
      "2\n",
      "3\n",
      "6\n",
      "7\n",
      "1\n",
      "5\n",
      "4\n"
     ]
    }
   ],
   "source": [
    "ans = Solution().oddEvenList(head)\n",
    "printNode(ans)"
   ]
  },
  {
   "cell_type": "code",
   "execution_count": 48,
   "metadata": {},
   "outputs": [
    {
     "name": "stdout",
     "output_type": "stream",
     "text": [
      "1\n"
     ]
    }
   ],
   "source": [
    "head = [1]\n",
    "head = makeListNode(head)\n",
    "ans = Solution().oddEvenList(head)\n",
    "printNode(ans)"
   ]
  },
  {
   "cell_type": "code",
   "execution_count": null,
   "metadata": {},
   "outputs": [],
   "source": []
  }
 ],
 "metadata": {
  "kernelspec": {
   "display_name": "Python 3.10.0 ('smile': conda)",
   "language": "python",
   "name": "python3"
  },
  "language_info": {
   "codemirror_mode": {
    "name": "ipython",
    "version": 3
   },
   "file_extension": ".py",
   "mimetype": "text/x-python",
   "name": "python",
   "nbconvert_exporter": "python",
   "pygments_lexer": "ipython3",
   "version": "3.10.0"
  },
  "orig_nbformat": 4,
  "vscode": {
   "interpreter": {
    "hash": "19b3d09e3e7e604d5b9d8dee40e057f3b76e426413024009107f2f2d8376a262"
   }
  }
 },
 "nbformat": 4,
 "nbformat_minor": 2
}
