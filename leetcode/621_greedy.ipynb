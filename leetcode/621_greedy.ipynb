{
 "cells": [
  {
   "cell_type": "code",
   "execution_count": 7,
   "metadata": {},
   "outputs": [],
   "source": [
    "from typing import List\n",
    "def leastInterval(tasks: List[str], n: int) -> int:\n",
    "    cnt_dict = dict()\n",
    "    if n == 0:\n",
    "        return len(tasks)\n",
    "\n",
    "    for i in range(len(tasks)):\n",
    "        if tasks[i] in cnt_dict:\n",
    "            cnt_dict[tasks[i]] +=1\n",
    "        else:\n",
    "            cnt_dict[tasks[i]] = 1\n",
    "\n",
    "    max_cnt = max(list(cnt_dict.values()))\n",
    "    max_task = []\n",
    "    for key,val in cnt_dict.items():\n",
    "        if val == max_cnt:\n",
    "            max_task.append(key)\n",
    "    if len(max_task)==1:\n",
    "        ans = n*(max_cnt-1)+max_cnt\n",
    "\n",
    "    if len(max_task)>1:\n",
    "        ans = n*(max_cnt-1)+max_cnt+len(max_task)-1\n",
    "    return max(ans,len(tasks))\n",
    "    \n"
   ]
  },
  {
   "cell_type": "code",
   "execution_count": 8,
   "metadata": {},
   "outputs": [],
   "source": [
    "tasks = [\"A\",\"A\",\"A\",\"B\",\"B\",\"B\"] \n",
    "n = 2"
   ]
  },
  {
   "cell_type": "code",
   "execution_count": 9,
   "metadata": {},
   "outputs": [
    {
     "data": {
      "text/plain": [
       "8"
      ]
     },
     "execution_count": 9,
     "metadata": {},
     "output_type": "execute_result"
    }
   ],
   "source": [
    "leastInterval(tasks,2)"
   ]
  },
  {
   "cell_type": "markdown",
   "metadata": {},
   "source": []
  }
 ],
 "metadata": {
  "interpreter": {
   "hash": "727708c3cdb3c3f496118a21f59f706591203dd8a1521d8d027fa39be58f3bf6"
  },
  "kernelspec": {
   "display_name": "Python 3.8.8 ('base': conda)",
   "language": "python",
   "name": "python3"
  },
  "language_info": {
   "codemirror_mode": {
    "name": "ipython",
    "version": 3
   },
   "file_extension": ".py",
   "mimetype": "text/x-python",
   "name": "python",
   "nbconvert_exporter": "python",
   "pygments_lexer": "ipython3",
   "version": "3.8.8"
  },
  "orig_nbformat": 4
 },
 "nbformat": 4,
 "nbformat_minor": 2
}
