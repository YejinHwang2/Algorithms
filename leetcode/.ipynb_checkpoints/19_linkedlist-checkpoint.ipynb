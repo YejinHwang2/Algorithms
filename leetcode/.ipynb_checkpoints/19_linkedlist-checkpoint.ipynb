{
 "cells": [
  {
   "cell_type": "code",
   "execution_count": 2,
   "id": "7a5bf7c6",
   "metadata": {},
   "outputs": [],
   "source": [
    "class ListNode:\n",
    "    def __init__(self,val=0,next=None):\n",
    "        self.val=val\n",
    "        self.next=next"
   ]
  },
  {
   "cell_type": "code",
   "execution_count": 3,
   "id": "53f36e9e",
   "metadata": {},
   "outputs": [],
   "source": [
    "def removeNthFromEnd(head,n:int):\n",
    "    curr = head\n",
    "    cnt = 0\n",
    "    while curr:\n",
    "        cnt+=1\n",
    "        curr=curr.next\n",
    "        \n",
    "    cnt_remove = cnt-n\n",
    "    \n",
    "    curr = head\n",
    "    cnt = 0\n",
    "    while cnt < cnt_remove:\n",
    "        cnt+=1\n",
    "        curr = curr.next\n",
    "        \n",
    "    \n",
    "    if curr:\n",
    "        if curr.next:\n",
    "            removal = curr.next\n",
    "            removal.next = None\n",
    "            curr.next = curr.next.next\n",
    "        else:\n",
    "            curr.next = None\n",
    "    else:\n",
    "        curr=None\n",
    "    return head\n",
    "                "
   ]
  },
  {
   "cell_type": "code",
   "execution_count": 4,
   "id": "6f8404f1",
   "metadata": {},
   "outputs": [],
   "source": [
    "head = ListNode(1)"
   ]
  },
  {
   "cell_type": "code",
   "execution_count": null,
   "id": "b5edda4e",
   "metadata": {},
   "outputs": [],
   "source": [
    "for\n"
   ]
  }
 ],
 "metadata": {
  "kernelspec": {
   "display_name": "Python 3",
   "language": "python",
   "name": "python3"
  },
  "language_info": {
   "codemirror_mode": {
    "name": "ipython",
    "version": 3
   },
   "file_extension": ".py",
   "mimetype": "text/x-python",
   "name": "python",
   "nbconvert_exporter": "python",
   "pygments_lexer": "ipython3",
   "version": "3.8.8"
  }
 },
 "nbformat": 4,
 "nbformat_minor": 5
}
