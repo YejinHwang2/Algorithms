{
 "cells": [
  {
   "cell_type": "code",
   "execution_count": 41,
   "metadata": {},
   "outputs": [],
   "source": [
    "from typing import List\n",
    "def canFinish( numCourses: int, prerequisites: List[List[int]]) -> bool:\n",
    "    visited = []\n",
    "    prereq_dict = dict()\n",
    "    #그래프 생성\n",
    "    for i in range(numCourses):\n",
    "        prereq_dict[i]= []\n",
    "    for course in prerequisites:\n",
    "        prereq_dict[course[0]].append(course[1])\n",
    "\n",
    "    \n",
    "    # print(prereq_dict)\n",
    "\n",
    "\n",
    "    def dfs(course, prereq_dict,visited):\n",
    "        \n",
    "        def visit(course,visited):\n",
    "            visited.append(course)\n",
    "            return visited\n",
    "#         print(visited)\n",
    "#         print(course)\n",
    "        \n",
    "        if course in visited:\n",
    "            for prereq in prereq_dict[course]:\n",
    "                if prereq not in visited:\n",
    "                    return False\n",
    "        else:\n",
    "            for prereq in prereq_dict[course]:\n",
    "                if prereq not in visited:\n",
    "                    visited = visit(prereq,visited)\n",
    "                    return dfs(prereq, prereq_dict,visited)\n",
    "        \n",
    "    for key in prereq_dict:\n",
    "        if dfs(key, prereq_dict, visited) == False:\n",
    "            return False\n",
    "    return True\n"
   ]
  },
  {
   "cell_type": "code",
   "execution_count": 42,
   "metadata": {},
   "outputs": [
    {
     "name": "stdout",
     "output_type": "stream",
     "text": [
      "[]\n",
      "0\n",
      "[]\n",
      "1\n",
      "[0]\n",
      "0\n"
     ]
    },
    {
     "data": {
      "text/plain": [
       "True"
      ]
     },
     "execution_count": 42,
     "metadata": {},
     "output_type": "execute_result"
    }
   ],
   "source": [
    "numCourses = 2\n",
    "prerequisites = [[1,0]]\n",
    "canFinish( numCourses, prerequisites)"
   ]
  },
  {
   "cell_type": "code",
   "execution_count": 44,
   "metadata": {},
   "outputs": [
    {
     "name": "stdout",
     "output_type": "stream",
     "text": [
      "[]\n",
      "0\n",
      "[1]\n",
      "1\n"
     ]
    },
    {
     "data": {
      "text/plain": [
       "False"
      ]
     },
     "execution_count": 44,
     "metadata": {},
     "output_type": "execute_result"
    }
   ],
   "source": [
    "numCourses = 2\n",
    "prerequisites = [[1,0],[0,1]]\n",
    "canFinish( numCourses, prerequisites)"
   ]
  },
  {
   "cell_type": "code",
   "execution_count": 45,
   "metadata": {},
   "outputs": [
    {
     "name": "stdout",
     "output_type": "stream",
     "text": [
      "[]\n",
      "0\n",
      "[1]\n",
      "1\n"
     ]
    },
    {
     "data": {
      "text/plain": [
       "False"
      ]
     },
     "execution_count": 45,
     "metadata": {},
     "output_type": "execute_result"
    }
   ],
   "source": [
    "numCourses = 3\n",
    "prerequisites = [[0,1],[0,2],[1,2]]\n",
    "canFinish( numCourses, prerequisites)"
   ]
  },
  {
   "cell_type": "code",
   "execution_count": null,
   "metadata": {},
   "outputs": [],
   "source": []
  }
 ],
 "metadata": {
  "interpreter": {
   "hash": "727708c3cdb3c3f496118a21f59f706591203dd8a1521d8d027fa39be58f3bf6"
  },
  "kernelspec": {
   "display_name": "Python 3",
   "language": "python",
   "name": "python3"
  },
  "language_info": {
   "codemirror_mode": {
    "name": "ipython",
    "version": 3
   },
   "file_extension": ".py",
   "mimetype": "text/x-python",
   "name": "python",
   "nbconvert_exporter": "python",
   "pygments_lexer": "ipython3",
   "version": "3.8.8"
  }
 },
 "nbformat": 4,
 "nbformat_minor": 2
}
