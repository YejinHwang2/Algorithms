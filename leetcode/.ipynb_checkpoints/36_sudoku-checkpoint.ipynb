{
 "cells": [
  {
   "cell_type": "code",
   "execution_count": null,
   "id": "1dacd6c5",
   "metadata": {},
   "outputs": [],
   "source": [
    "def isValidSudoku(board:List[List[str]])->bool:\n",
    "    \n",
    "    col_set = [set() for i in range(9)]\n",
    "    for row in range(len(board):\n",
    "        # row side check\n",
    "        row_set = set()\n",
    "        \n",
    "        for i in range(len(board[row]):\n",
    "                       num = bo\n",
    "                     if  != \".\" and num not in row_set:\n",
    "                         row_set.add(num)\n",
    "                     elif num in row_set:\n",
    "                         return False\n",
    "                     \n",
    "                     if num != \".\" and num not in col_set[row]:\n",
    "                         col_set[row].add(num)\n",
    "                     elif num in col_set[row]:\n",
    "\n",
    "                     \n",
    "                     \n",
    "                                 \n",
    "             \n",
    "        \n",
    "        \n",
    "        # col side check\n",
    "        \n",
    "            \n",
    "                "
   ]
  },
  {
   "cell_type": "code",
   "execution_count": 2,
   "id": "5cbd201b",
   "metadata": {},
   "outputs": [],
   "source": [
    "from typing import List\n",
    "def isValidSudoku(board:List[List[str]])->bool:\n",
    "    col_set = [set() for i in range(9)]\n",
    "    sub_set = [set() for i in range(0)]\n",
    "    for row in range(len(board)):\n",
    "        \n",
    "        row_set = set()\n",
    "        for i in range(len(board[row])):\n",
    "            num = board[row][i]\n",
    "            \n",
    "            #row side check\n",
    "            if num != \".\" and num not in row_set:\n",
    "                row_set.add(num)\n",
    "            elif num in row_set:\n",
    "                return False\n",
    "            \n",
    "            #col side check\n",
    "            if num != \".\" and num not in col_set[i]:\n",
    "                col_set[i].add(num)\n",
    "            elif num in col_set[i]:\n",
    "                return False\n",
    "            \n",
    "            #sub-box check\n",
    "            if num != \".\":\n",
    "                if row in [0,1,2]:\n",
    "                    if i in [0,1,2]:\n",
    "                        if num not in sub_set[0]:\n",
    "                            sub_set[0].add(num)\n",
    "                        else:\n",
    "                            return False\n",
    "                    \n",
    "                    elif i in [3,4,5]:\n",
    "                        if num not in sub_set[1]:\n",
    "                            sub_set[1].add(num)\n",
    "                        else:\n",
    "                            return False\n",
    "                \n",
    "                    else:\n",
    "                        if num not in sub_set[2]:\n",
    "                            sub_set[2].add(num)\n",
    "                        else:\n",
    "                            return False\n",
    "                    \n",
    "                elif row in [3,4,5]:\n",
    "                    if i in [0,1,2]:\n",
    "                        if num not in sub_set[3]:\n",
    "                            sub_set[3].add(num)\n",
    "                        else:\n",
    "                            return False\n",
    "                    elif i in [3,4,5]:\n",
    "                        if num not in sub_set[4]:\n",
    "                            sub_set[4].add(num)\n",
    "                        else:\n",
    "                            return False\n",
    "                    else:\n",
    "                        if num not in sub_set[5]:\n",
    "                            sub_set[5].add(num)\n",
    "                        else:\n",
    "                            return False\n",
    "                        \n",
    "                else:\n",
    "                    if i in [0,1,2]:\n",
    "                        if num not in sub_set[6]:\n",
    "                            sub_set[6].add(num)\n",
    "                        else:\n",
    "                            return False\n",
    "                    elif i in [3,4,5]:\n",
    "                        if num not in sub_set[7]:\n",
    "                            sub_set[7].add(num)\n",
    "                        else:\n",
    "                            return False\n",
    "                    else:\n",
    "                        if num not in sub_set[8]:\n",
    "                            sub_set[8].add(num)\n",
    "                        else:\n",
    "                            return False\n",
    "        return True\n",
    "                        \n",
    "                        \n",
    "                    \n",
    "                    \n",
    "                    \n",
    "                \n",
    "            \n",
    "            "
   ]
  },
  {
   "cell_type": "code",
   "execution_count": 7,
   "id": "53a00a25",
   "metadata": {},
   "outputs": [
    {
     "data": {
      "text/plain": [
       "[set(), set(), set(), set(), set(), set(), set(), set(), set()]"
      ]
     },
     "execution_count": 7,
     "metadata": {},
     "output_type": "execute_result"
    }
   ],
   "source": [
    "col"
   ]
  },
  {
   "cell_type": "code",
   "execution_count": 8,
   "id": "f2d6b039",
   "metadata": {},
   "outputs": [
    {
     "ename": "SyntaxError",
     "evalue": "invalid syntax (<ipython-input-8-3cd0b4865902>, line 1)",
     "output_type": "error",
     "traceback": [
      "\u001b[0;36m  File \u001b[0;32m\"<ipython-input-8-3cd0b4865902>\"\u001b[0;36m, line \u001b[0;32m1\u001b[0m\n\u001b[0;31m    [0:3]\u001b[0m\n\u001b[0m      ^\u001b[0m\n\u001b[0;31mSyntaxError\u001b[0m\u001b[0;31m:\u001b[0m invalid syntax\n"
     ]
    }
   ],
   "source": []
  },
  {
   "cell_type": "code",
   "execution_count": null,
   "id": "7b08abb3",
   "metadata": {},
   "outputs": [],
   "source": []
  }
 ],
 "metadata": {
  "kernelspec": {
   "display_name": "Python 3",
   "language": "python",
   "name": "python3"
  },
  "language_info": {
   "codemirror_mode": {
    "name": "ipython",
    "version": 3
   },
   "file_extension": ".py",
   "mimetype": "text/x-python",
   "name": "python",
   "nbconvert_exporter": "python",
   "pygments_lexer": "ipython3",
   "version": "3.8.8"
  }
 },
 "nbformat": 4,
 "nbformat_minor": 5
}
