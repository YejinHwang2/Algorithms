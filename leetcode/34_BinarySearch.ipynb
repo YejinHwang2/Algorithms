{
 "cells": [
  {
   "cell_type": "markdown",
   "metadata": {},
   "source": [
    "## 34. Find First and Last Position of Element in Sorted Array"
   ]
  },
  {
   "cell_type": "markdown",
   "metadata": {},
   "source": [
    "Given an array of integers nums sorted in non-decreasing order, find the starting and ending position of a given target value.\n",
    "\n",
    "If target is not found in the array, return [-1, -1].\n",
    "\n",
    "You must write an algorithm with O(log n) runtime complexity."
   ]
  },
  {
   "cell_type": "code",
   "execution_count": 1,
   "metadata": {},
   "outputs": [],
   "source": [
    "from typing import List\n",
    "class Solution:\n",
    "    def searchRange(self, nums: List[int], target: int) -> List[int]:\n",
    "        ans = [-1,-1]\n",
    "        start, end = 0, len(nums)-1\n",
    "        ans = [-1,-1]\n",
    "        while start != end + 1: # target 시작 idx 찾기\n",
    "            mid = (start+end)//2\n",
    "            if nums[mid] == target:\n",
    "                end = mid - 1\n",
    "                ans[0] = mid\n",
    "                ans[1] = mid\n",
    "            elif nums[mid] < target:\n",
    "                start = mid +1\n",
    "            else:\n",
    "                end = mid-1\n",
    "        if ans[0] == -1:\n",
    "            return ans\n",
    "        start = ans[0] + 1\n",
    "        end = len(nums) - 1\n",
    "\n",
    "        while start != end + 1: # target 시작 idx 이후부터 마지막 중 target 또 있는지 찾기\n",
    "            mid = (start+end)//2\n",
    "            if nums[mid] == target:\n",
    "                start = mid + 1\n",
    "                ans[1] = mid\n",
    "            elif nums[mid] < target:\n",
    "                start = mid + 1\n",
    "            else:\n",
    "                end = mid - 1\n",
    "        return ans"
   ]
  },
  {
   "cell_type": "code",
   "execution_count": 4,
   "metadata": {},
   "outputs": [
    {
     "name": "stdout",
     "output_type": "stream",
     "text": [
      "[3, 4]\n",
      "[-1, -1]\n"
     ]
    }
   ],
   "source": [
    "nums = [5,7,7,8,8,10]\n",
    "print(Solution().searchRange(nums,8))\n",
    "print(Solution().searchRange(nums,6))"
   ]
  },
  {
   "cell_type": "code",
   "execution_count": 5,
   "metadata": {},
   "outputs": [
    {
     "name": "stdout",
     "output_type": "stream",
     "text": [
      "[-1, -1]\n"
     ]
    }
   ],
   "source": [
    "nums = []\n",
    "target = 0\n",
    "print(Solution().searchRange(nums,target))"
   ]
  }
 ],
 "metadata": {
  "kernelspec": {
   "display_name": "Python 3.10.4 ('finance': conda)",
   "language": "python",
   "name": "python3"
  },
  "language_info": {
   "codemirror_mode": {
    "name": "ipython",
    "version": 3
   },
   "file_extension": ".py",
   "mimetype": "text/x-python",
   "name": "python",
   "nbconvert_exporter": "python",
   "pygments_lexer": "ipython3",
   "version": "3.10.4"
  },
  "orig_nbformat": 4,
  "vscode": {
   "interpreter": {
    "hash": "f76d39cf489bed8dc26aafbbc14437533460a0605c922bd4b38b248201f93bbd"
   }
  }
 },
 "nbformat": 4,
 "nbformat_minor": 2
}
