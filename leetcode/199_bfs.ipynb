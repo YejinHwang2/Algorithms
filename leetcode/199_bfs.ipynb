{
 "cells": [
  {
   "cell_type": "markdown",
   "metadata": {},
   "source": [
    "## Binary Tree Right Side View"
   ]
  },
  {
   "cell_type": "markdown",
   "metadata": {},
   "source": [
    "Given the root of a binary tree, imagine yourself standing on the right side of it, return the values of the nodes you can see ordered from top to bottom."
   ]
  },
  {
   "cell_type": "code",
   "execution_count": null,
   "metadata": {},
   "outputs": [],
   "source": [
    "# Definition for a binary tree node.\n",
    "# class TreeNode:\n",
    "#     def __init__(self, val=0, left=None, right=None):\n",
    "#         self.val = val\n",
    "#         self.left = left\n",
    "#         self.right = right\n",
    "class Solution:\n",
    "    def rightSideView(self, root: Optional[TreeNode]) -> List[int]:\n",
    "        \n",
    "        if root:\n",
    "            ans = [root.val]\n",
    "            q = [root]\n",
    "            \n",
    "            while q:\n",
    "                tmp=[]\n",
    "                level = len(q)\n",
    "                for i in range(level):\n",
    "                    curr = q.pop(0)\n",
    "                    if curr.left:\n",
    "                        q.append(curr.left)\n",
    "                        tmp.append(curr.left.val)\n",
    "                    if curr.right:\n",
    "                        q.append(curr.right)\n",
    "                        tmp.append(curr.right.val)\n",
    "                        \n",
    "                if tmp:\n",
    "                    ans.append(tmp[-1])\n",
    "                \n",
    "        else:\n",
    "            ans = []\n",
    "        \n",
    "        return ans"
   ]
  }
 ],
 "metadata": {
  "interpreter": {
   "hash": "727708c3cdb3c3f496118a21f59f706591203dd8a1521d8d027fa39be58f3bf6"
  },
  "kernelspec": {
   "display_name": "Python 3.8.8 ('base': conda)",
   "language": "python",
   "name": "python3"
  },
  "language_info": {
   "name": "python",
   "version": "3.8.8"
  },
  "orig_nbformat": 4
 },
 "nbformat": 4,
 "nbformat_minor": 2
}
