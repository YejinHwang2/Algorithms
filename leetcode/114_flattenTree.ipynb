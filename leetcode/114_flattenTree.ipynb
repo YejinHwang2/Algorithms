{
 "cells": [
  {
   "cell_type": "markdown",
   "metadata": {},
   "source": [
    "## 114. Flatten Binary Tree to Linked List\n",
    "The \"linked list\" should use the same TreeNode class where the right child pointer points to the next node in the list and the left child pointer is always null.\n",
    "The \"linked list\" should be in the same order as a pre-order traversal of the binary tree.\n",
    "\n",
    "dfs는 \"recursion\"이나 \"stack\"으로 구현할 수 있다."
   ]
  },
  {
   "cell_type": "code",
   "execution_count": 2,
   "metadata": {},
   "outputs": [],
   "source": [
    "# Definition for a binary tree node.\n",
    "class TreeNode:\n",
    "    def __init__(self, val=0, left=None, right=None):\n",
    "        self.val = val\n",
    "        self.left = left\n",
    "        self.right = right"
   ]
  },
  {
   "cell_type": "code",
   "execution_count": 4,
   "metadata": {},
   "outputs": [],
   "source": [
    "from typing import List\n",
    "# Recursive\n",
    "class Solution:\n",
    "    def preorderTraversal(self, root:TreeNode) -> List[int]:\n",
    "        if not root:\n",
    "            return []\n",
    "\n",
    "        self.footage = []\n",
    "        def Traversal(node):\n",
    "            if not node: return []\n",
    "            self.footage.append(node.val)\n",
    "            Traversal(node.left)\n",
    "            Traversal(node.right)\n",
    "\n",
    "        Traversal(root)\n",
    "        return self.footage"
   ]
  },
  {
   "cell_type": "code",
   "execution_count": 7,
   "metadata": {},
   "outputs": [],
   "source": [
    "from typing import List\n",
    "# stack\n",
    "def preorderTraversal(self, root:TreeNode) -> List[int]:\n",
    "        if not root:\n",
    "            return []\n",
    "\n",
    "        stack = [root]\n",
    "        footage = []\n",
    "        while stack:\n",
    "            cur_node = stack.pop()\n",
    "            if cur_node:\n",
    "                footage.append(cur_node.val)\n",
    "                stack.append(cur_node.right)\n",
    "                stack.append(cur_node.left)\n",
    "        return footage\n"
   ]
  },
  {
   "cell_type": "code",
   "execution_count": 6,
   "metadata": {},
   "outputs": [],
   "source": [
    "\n",
    "from typing import Optional\n",
    "class Solution:\n",
    "    def flatten(self, root: Optional[TreeNode]) -> None:\n",
    "        # Base condition- return if root is None\n",
    "        # or if it is a leaf node\n",
    "        if (root == None or root.left == None and root.right == None):\n",
    "            return\n",
    "        \n",
    "        if root.left != None:\n",
    "            # Move left recursively\n",
    "            self.flatten(root.left)\n",
    "            # Store the node root.right\n",
    "            tmpRight = root.right\n",
    "            root.right = root.left\n",
    "            root.left = None\n",
    "\n",
    "            # Find the position to insert\n",
    "            # the stored value   \n",
    "            t = root.right\n",
    "            while (t.right != None):\n",
    "                t = t.right\n",
    "\n",
    "            # Insert the stored value\n",
    "            t.right = tmpRight\n",
    "        # Now call the same function\n",
    "        # for root.right\n",
    "        self.flatten(root.right)"
   ]
  }
 ],
 "metadata": {
  "kernelspec": {
   "display_name": "Python 3.10.4 ('finance': conda)",
   "language": "python",
   "name": "python3"
  },
  "language_info": {
   "codemirror_mode": {
    "name": "ipython",
    "version": 3
   },
   "file_extension": ".py",
   "mimetype": "text/x-python",
   "name": "python",
   "nbconvert_exporter": "python",
   "pygments_lexer": "ipython3",
   "version": "3.10.4"
  },
  "orig_nbformat": 4,
  "vscode": {
   "interpreter": {
    "hash": "f76d39cf489bed8dc26aafbbc14437533460a0605c922bd4b38b248201f93bbd"
   }
  }
 },
 "nbformat": 4,
 "nbformat_minor": 2
}
