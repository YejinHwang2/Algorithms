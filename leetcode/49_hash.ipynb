{
 "cells": [
  {
   "cell_type": "markdown",
   "metadata": {},
   "source": [
    "## 49. Group Anagrams\n",
    "Given an array of strings strs, group the anagrams together. You can return the answer in any order.\n",
    "\n",
    "An Anagram is a word or phrase formed by rearranging the letters of a different word or phrase, typically using all the original letters exactly once."
   ]
  },
  {
   "cell_type": "code",
   "execution_count": 95,
   "metadata": {},
   "outputs": [],
   "source": [
    "# Referece : https://velog.io/@qmasem/LeetCode-49.-Group-Anagrams-Python\n",
    "from collections import defaultdict\n",
    "from typing import List\n",
    "class Solution:\n",
    "    def groupAnagrams(self, strs: List[str]) -> List[List[str]]:\n",
    "        anagrams = defaultdict(list)\n",
    "        \n",
    "        for word in strs:\n",
    "            anagrams[''.join(sorted(word))].append(word)\n",
    "        return list(anagrams.values())"
   ]
  },
  {
   "cell_type": "code",
   "execution_count": 94,
   "metadata": {},
   "outputs": [],
   "source": [
    "# Timelimit error\n",
    "from typing import List\n",
    "class Solution:\n",
    "    def groupAnagrams(self, strs: List[str]) -> List[List[str]]:\n",
    "        ans = []\n",
    "        global word_dict\n",
    "        word_dict = dict()\n",
    "        for word in strs:\n",
    "            word_dict[word] = dict()\n",
    "            for s in word:\n",
    "                if s not in word_dict[word]:\n",
    "                    word_dict[word][s] = 1\n",
    "                else:\n",
    "                    word_dict[word][s] += 1\n",
    "        \n",
    "        global hash_dict\n",
    "        hash_dict = dict()\n",
    "        i = 1\n",
    "        for value in word_dict.values():\n",
    "            values = hash_dict.values()\n",
    "            if value not in values:\n",
    "                hash_dict[i] = value\n",
    "                i += 1\n",
    "\n",
    "        global ans_dict\n",
    "        ans_dict = dict()\n",
    "        for idx in hash_dict:\n",
    "            for word in strs:\n",
    "                if word_dict[word] == hash_dict[idx]:\n",
    "                    if idx not in ans_dict:\n",
    "                        ans_dict[idx] = [word]\n",
    "                    else:\n",
    "                        ans_dict[idx].append(word)\n",
    "        \n",
    "        return list(ans_dict.values())\n",
    "\n",
    "        \n",
    "\n",
    "\n",
    "            \n",
    "        \n",
    "\n",
    "            \n",
    "            \n"
   ]
  },
  {
   "cell_type": "code",
   "execution_count": 96,
   "metadata": {},
   "outputs": [
    {
     "data": {
      "text/plain": [
       "[['eat', 'tea', 'ate'], ['tan', 'nat'], ['bat']]"
      ]
     },
     "execution_count": 96,
     "metadata": {},
     "output_type": "execute_result"
    }
   ],
   "source": [
    "strs = [\"eat\",\"tea\",\"tan\",\"ate\",\"nat\",\"bat\"]\n",
    "Solution().groupAnagrams(strs)"
   ]
  },
  {
   "cell_type": "code",
   "execution_count": 97,
   "metadata": {},
   "outputs": [
    {
     "data": {
      "text/plain": [
       "[['a']]"
      ]
     },
     "execution_count": 97,
     "metadata": {},
     "output_type": "execute_result"
    }
   ],
   "source": [
    "strs = [\"a\"]\n",
    "Solution().groupAnagrams(strs)"
   ]
  }
 ],
 "metadata": {
  "kernelspec": {
   "display_name": "Python 3.10.0 ('smile': conda)",
   "language": "python",
   "name": "python3"
  },
  "language_info": {
   "codemirror_mode": {
    "name": "ipython",
    "version": 3
   },
   "file_extension": ".py",
   "mimetype": "text/x-python",
   "name": "python",
   "nbconvert_exporter": "python",
   "pygments_lexer": "ipython3",
   "version": "3.10.0"
  },
  "orig_nbformat": 4,
  "vscode": {
   "interpreter": {
    "hash": "19b3d09e3e7e604d5b9d8dee40e057f3b76e426413024009107f2f2d8376a262"
   }
  }
 },
 "nbformat": 4,
 "nbformat_minor": 2
}
