{
 "cells": [
  {
   "cell_type": "code",
   "execution_count": 82,
   "metadata": {},
   "outputs": [],
   "source": [
    "from typing import List\n",
    "def canFinish( numCourses: int, prerequisites: List[List[int]]) -> bool:\n",
    "    \n",
    "    prereq_dict = dict()\n",
    "    for i in range(numCourses):\n",
    "        prereq_dict[i]= []\n",
    "    for course in prerequisites:\n",
    "        prereq_dict[course[0]].append(course[1])\n",
    "\n",
    "    trace, visited = set(), set()\n",
    "    # print(prereq_dict)\n",
    "\n",
    "    def dfs(course):\n",
    "       \n",
    "        if course in trace:\n",
    "            return False\n",
    "        if course in visited:\n",
    "            return True\n",
    "        trace.add(course)                                                                                                                                                                                                                                    \n",
    "       \n",
    "        for prereq in prereq_dict[course]:\n",
    "            if dfs(prereq) == False:\n",
    "                return False\n",
    "                    \n",
    "        trace.remove(course)\n",
    "        visited.add(course)\n",
    "                \n",
    "                    \n",
    "    for key in prereq_dict:\n",
    "        if dfs(key) == False:\n",
    "            return False\n",
    "    return True\n",
    "\n",
    "            \n",
    "        \n",
    "\n",
    "\n",
    "\n",
    "\n",
    "\n"
   ]
  },
  {
   "cell_type": "code",
   "execution_count": 83,
   "metadata": {},
   "outputs": [
    {
     "data": {
      "text/plain": [
       "True"
      ]
     },
     "execution_count": 83,
     "metadata": {},
     "output_type": "execute_result"
    }
   ],
   "source": [
    "numCourses = 2\n",
    "prerequisites = [[1,0]]\n",
    "canFinish( numCourses, prerequisites)"
   ]
  },
  {
   "cell_type": "code",
   "execution_count": 84,
   "metadata": {},
   "outputs": [
    {
     "data": {
      "text/plain": [
       "False"
      ]
     },
     "execution_count": 84,
     "metadata": {},
     "output_type": "execute_result"
    }
   ],
   "source": [
    "numCourses = 2\n",
    "prerequisites = [[1,0],[0,1]]\n",
    "canFinish( numCourses, prerequisites)"
   ]
  },
  {
   "cell_type": "code",
   "execution_count": 85,
   "metadata": {},
   "outputs": [
    {
     "data": {
      "text/plain": [
       "True"
      ]
     },
     "execution_count": 85,
     "metadata": {},
     "output_type": "execute_result"
    }
   ],
   "source": [
    "numCourses = 3\n",
    "prerequisites = [[0,1],[0,2],[1,2]]\n",
    "canFinish( numCourses, prerequisites)"
   ]
  },
  {
   "cell_type": "code",
   "execution_count": 86,
   "metadata": {},
   "outputs": [
    {
     "data": {
      "text/plain": [
       "False"
      ]
     },
     "execution_count": 86,
     "metadata": {},
     "output_type": "execute_result"
    }
   ],
   "source": [
    "numCourses = 3\n",
    "prerequisites =[[1,0],[2,0],[0,2]]\n",
    "canFinish( numCourses, prerequisites)"
   ]
  },
  {
   "cell_type": "code",
   "execution_count": 87,
   "metadata": {},
   "outputs": [
    {
     "data": {
      "text/plain": [
       "True"
      ]
     },
     "execution_count": 87,
     "metadata": {},
     "output_type": "execute_result"
    }
   ],
   "source": [
    "numCourses = 5\n",
    "prerequisites = [[1,4],[2,4],[3,1],[3,2]]\n",
    "canFinish( numCourses, prerequisites)"
   ]
  },
  {
   "cell_type": "code",
   "execution_count": 76,
   "metadata": {},
   "outputs": [
    {
     "data": {
      "text/plain": [
       "True"
      ]
     },
     "execution_count": 76,
     "metadata": {},
     "output_type": "execute_result"
    }
   ],
   "source": [
    "numCourses = 3\n",
    "prerequisites =[[1,0],[0,2],[2,1]]\n",
    "canFinish( numCourses, prerequisites)"
   ]
  }
 ],
 "metadata": {
  "interpreter": {
   "hash": "727708c3cdb3c3f496118a21f59f706591203dd8a1521d8d027fa39be58f3bf6"
  },
  "kernelspec": {
   "display_name": "Python 3.8.8 ('base': conda)",
   "language": "python",
   "name": "python3"
  },
  "language_info": {
   "codemirror_mode": {
    "name": "ipython",
    "version": 3
   },
   "file_extension": ".py",
   "mimetype": "text/x-python",
   "name": "python",
   "nbconvert_exporter": "python",
   "pygments_lexer": "ipython3",
   "version": "3.8.8"
  },
  "orig_nbformat": 4
 },
 "nbformat": 4,
 "nbformat_minor": 2
}
