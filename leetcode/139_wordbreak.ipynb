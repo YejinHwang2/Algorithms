{
 "cells": [
  {
   "cell_type": "markdown",
   "metadata": {},
   "source": [
    "## 138. Word Break\n",
    "Given a string s and a dictionary of strings wordDict, return true if s can be segmented into a space-separated sequence of one or more dictionary words.\n",
    "\n",
    "Note that the same word in the dictionary may be reused multiple times in the segmentation."
   ]
  },
  {
   "cell_type": "markdown",
   "metadata": {},
   "source": [
    "### Use dynamic programming\n",
    "Dynamic Programming(동적 계획법)은 주어진 문제를 잘게 나누어서 하위 문제들을 푼 후, 각 답을 이용하여 주어진 문제를 푸는 방식이다. DP를 풀 때 생각해야하는 것은 딱 하나다. 바로 '점화식'이다. 점화식만 세우면 문제 풀이는 끝났다."
   ]
  },
  {
   "cell_type": "code",
   "execution_count": 66,
   "metadata": {},
   "outputs": [],
   "source": [
    "class Solution:\n",
    "    def wordBreak(self, s: str, wordDict: List[str]) -> bool:\n",
    "        n = len(s)\n",
    "        \n",
    "        dp = [i==0 for i in range(n+1)]\n",
    "        \n",
    "        for i in range(1, n+1):\n",
    "            for j in range(i):\n",
    "                if dp[j] and s[j:i] in wordDict:\n",
    "                    dp[i] = True\n",
    "                    break\n",
    "\n",
    "        return dp[-1]\n",
    "\n",
    "        \n",
    "        \"\"\"leetcode라는 단어를 예시로 생각해보자.\n",
    "\n",
    "        dp[0] = True\n",
    "\n",
    "        dp[1] = False // wordDict에 \"l\"이라는 단어는 없다.\n",
    "\n",
    "        dp[2] = False // wordDict에 \"le\"라는 단어는 없다.\n",
    "\n",
    "        dp[3] = False // wordDict에 \"lee\"라는 단어는 없다.\n",
    "\n",
    "        dp[4] = True // wordDict에 \"leet\"이라는 단어가 있다.\n",
    "\n",
    "        dp[5] = False // wordDict에 \"c\"라는 단어는 없다.\n",
    "\n",
    "        dp[6] = False // wordDict에 \"co\"라는 단어는 없다.\n",
    "\n",
    "        dp[7] = False // wordDict에 \"cod\"라는 단어는 없다.\n",
    "\n",
    "        dp[8] = True // wordDict에 \"code\"라는 단어가 있다. \"\"\"\n",
    "\n",
    "# 구하고자 하는 점화식은 다음과 같다.\n",
    "\n",
    "# dp[i] = wordDict의 단어들로 s(0:i)의 부분 문자열을 만들 수 있는지!\n",
    "\n",
    "# dp[n] = 문자열 s의 j번째 인덱스부터 n번째 인덱스까지의 부분 문자열이 wordDict에 있으면 True, 이때 j는 dp[j]의 값이 True여야한다."
   ]
  },
  {
   "cell_type": "code",
   "execution_count": 14,
   "metadata": {},
   "outputs": [],
   "source": [
    "# wrong solution\n",
    "# from typing import List\n",
    "\n",
    "# class Solution:\n",
    "#     def wordBreak(self, s: str, wordDict: List[str]) -> bool:\n",
    "        \n",
    "#         def search_word(word1, ind, s):\n",
    "#             # print(ind)\n",
    "#             word1 = word1\n",
    "#             word2 = \"\"\n",
    "#             for i in range(ind, len(s)):\n",
    "#                 word2 += s[i]\n",
    "#                 word1 = word1 + s[i]\n",
    "#                 if word1 in wordDict:\n",
    "#                     if i == (len(s) -1) :\n",
    "#                         return True\n",
    "#                     if i < len(s)-1:\n",
    "#                         return search_word(word1, i+1, s)\n",
    "                    \n",
    "#                 elif word2 in wordDict:\n",
    "#                     if i == (len(s) -1) :\n",
    "#                         return True\n",
    "#                     if i < len(s)-1:\n",
    "#                         return search_word(word2,i+1,s)\n",
    "                \n",
    "#             return False\n",
    "           \n",
    "            \n",
    "#         return search_word(\"\", 0, s)\n",
    "\n",
    "\n"
   ]
  },
  {
   "cell_type": "code",
   "execution_count": 67,
   "metadata": {},
   "outputs": [
    {
     "data": {
      "text/plain": [
       "True"
      ]
     },
     "execution_count": 67,
     "metadata": {},
     "output_type": "execute_result"
    }
   ],
   "source": [
    "s = \"leetcode\"\n",
    "wordDict = [\"leet\",\"code\"]\n",
    "Solution().wordBreak(s, wordDict)"
   ]
  },
  {
   "cell_type": "code",
   "execution_count": 68,
   "metadata": {},
   "outputs": [
    {
     "data": {
      "text/plain": [
       "True"
      ]
     },
     "execution_count": 68,
     "metadata": {},
     "output_type": "execute_result"
    }
   ],
   "source": [
    "s = \"applepenapple\"\n",
    "wordDict = [\"apple\",\"pen\"]\n",
    "Solution().wordBreak(s, wordDict)"
   ]
  },
  {
   "cell_type": "code",
   "execution_count": 69,
   "metadata": {},
   "outputs": [
    {
     "data": {
      "text/plain": [
       "False"
      ]
     },
     "execution_count": 69,
     "metadata": {},
     "output_type": "execute_result"
    }
   ],
   "source": [
    "s = \"catsandog\" \n",
    "wordDict = [\"cats\",\"dog\",\"sand\",\"and\",\"cat\"]\n",
    "Solution().wordBreak(s, wordDict)"
   ]
  },
  {
   "cell_type": "code",
   "execution_count": 70,
   "metadata": {},
   "outputs": [
    {
     "data": {
      "text/plain": [
       "True"
      ]
     },
     "execution_count": 70,
     "metadata": {},
     "output_type": "execute_result"
    }
   ],
   "source": [
    "s = \"aaaaaaa\"\n",
    "wordDict = [\"aaaa\",\"aaa\"]\n",
    "Solution().wordBreak(s, wordDict)"
   ]
  },
  {
   "cell_type": "code",
   "execution_count": null,
   "metadata": {},
   "outputs": [],
   "source": []
  }
 ],
 "metadata": {
  "kernelspec": {
   "display_name": "Python 3.10.4 ('finance': conda)",
   "language": "python",
   "name": "python3"
  },
  "language_info": {
   "codemirror_mode": {
    "name": "ipython",
    "version": 3
   },
   "file_extension": ".py",
   "mimetype": "text/x-python",
   "name": "python",
   "nbconvert_exporter": "python",
   "pygments_lexer": "ipython3",
   "version": "3.10.4"
  },
  "orig_nbformat": 4,
  "vscode": {
   "interpreter": {
    "hash": "f76d39cf489bed8dc26aafbbc14437533460a0605c922bd4b38b248201f93bbd"
   }
  }
 },
 "nbformat": 4,
 "nbformat_minor": 2
}
