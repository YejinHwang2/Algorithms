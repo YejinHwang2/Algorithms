{
 "cells": [
  {
   "cell_type": "markdown",
   "metadata": {},
   "source": [
    "## 100. Same Tree\n",
    "Given the roots of two binary trees p and q, write a function to check if they are the same or not.\n",
    "\n",
    "Two binary trees are considered the same if they are structurally identical, and the nodes have the same value."
   ]
  },
  {
   "cell_type": "code",
   "execution_count": 29,
   "metadata": {},
   "outputs": [],
   "source": [
    "# my solution\n",
    "from typing import Optional\n",
    "# Definition for a binary tree node.\n",
    "class TreeNode:\n",
    "    def __init__(self, val=0, left=None, right=None):\n",
    "        self.val = val\n",
    "        self.left = left\n",
    "        self.right = right\n",
    "class Solution:\n",
    "    def isSameTree(self, p: Optional[TreeNode], q: Optional[TreeNode]) -> bool:\n",
    "        def visit(node: TreeNode, node_list):\n",
    "            node_list.append(node.val)\n",
    "            return node_list\n",
    "\n",
    "        def traversalHelp(node: TreeNode, node_list) -> list:\n",
    "            if node:\n",
    "                node_list = visit(node, node_list)\n",
    "\n",
    "                if node.left:\n",
    "                    node_list = traversalHelp(node.left, node_list)\n",
    "                else:\n",
    "                    node_list.append(None)\n",
    "\n",
    "                if node.right:\n",
    "                    node_list = traversalHelp(node.right, node_list)\n",
    "                else:\n",
    "                    node_list.append(None)\n",
    "            else:\n",
    "                node_list.append(None)\n",
    "            \n",
    "            return node_list\n",
    "\n",
    "        def traversal(node: TreeNode, node_list) -> list:\n",
    "            node_list = traversalHelp(node, node_list)\n",
    "            return node_list\n",
    "        p_list = traversal(p, [])\n",
    "        # print(p_list)\n",
    "        q_list = traversal(q, [])\n",
    "        # print(q_list)\n",
    "\n",
    "        if p_list == q_list:\n",
    "            return True\n",
    "        else:\n",
    "            return False\n",
    "\n",
    "        \n",
    "\n"
   ]
  },
  {
   "cell_type": "code",
   "execution_count": null,
   "metadata": {},
   "outputs": [],
   "source": [
    "# Other Solution\n",
    "# 트리가 같은지를 비교히려면 각각의 트리를 왼쪽의 서브트리, 오른쪽의 서브트리가 동일한지를 판단\n",
    "# 양쪽의 노드가 NULL이 아닌데 값이 다른경우에는 False를 바로 리턴\n",
    "# 양쪽의 노드가 NULL인 경우에는 NULL = NULL이므로 True를 리턴\n",
    "\n"
   ]
  },
  {
   "cell_type": "code",
   "execution_count": 30,
   "metadata": {},
   "outputs": [],
   "source": [
    "p = TreeNode(1)\n",
    "p.left = TreeNode(2)\n",
    "p.right = TreeNode(3)\n",
    "q = TreeNode(1)\n",
    "q.left = TreeNode(2)\n",
    "q.right = TreeNode(3)"
   ]
  },
  {
   "cell_type": "code",
   "execution_count": 31,
   "metadata": {},
   "outputs": [
    {
     "name": "stdout",
     "output_type": "stream",
     "text": [
      "[1, 2, None, None, 3, None, None]\n",
      "[1, 2, None, None, 3, None, None]\n"
     ]
    },
    {
     "data": {
      "text/plain": [
       "True"
      ]
     },
     "execution_count": 31,
     "metadata": {},
     "output_type": "execute_result"
    }
   ],
   "source": [
    "Solution().isSameTree(p,q)"
   ]
  },
  {
   "cell_type": "code",
   "execution_count": 32,
   "metadata": {},
   "outputs": [],
   "source": [
    "p = TreeNode(1)\n",
    "p.left = TreeNode(2)\n",
    "q =  TreeNode(1)\n",
    "q.right = TreeNode(2)"
   ]
  },
  {
   "cell_type": "code",
   "execution_count": 33,
   "metadata": {},
   "outputs": [
    {
     "name": "stdout",
     "output_type": "stream",
     "text": [
      "[1, 2, None, None, None]\n",
      "[1, None, 2, None, None]\n"
     ]
    },
    {
     "data": {
      "text/plain": [
       "False"
      ]
     },
     "execution_count": 33,
     "metadata": {},
     "output_type": "execute_result"
    }
   ],
   "source": [
    "Solution().isSameTree(p,q)"
   ]
  }
 ],
 "metadata": {
  "kernelspec": {
   "display_name": "Python 3.10.0 ('smile': conda)",
   "language": "python",
   "name": "python3"
  },
  "language_info": {
   "codemirror_mode": {
    "name": "ipython",
    "version": 3
   },
   "file_extension": ".py",
   "mimetype": "text/x-python",
   "name": "python",
   "nbconvert_exporter": "python",
   "pygments_lexer": "ipython3",
   "version": "3.10.0"
  },
  "orig_nbformat": 4,
  "vscode": {
   "interpreter": {
    "hash": "19b3d09e3e7e604d5b9d8dee40e057f3b76e426413024009107f2f2d8376a262"
   }
  }
 },
 "nbformat": 4,
 "nbformat_minor": 2
}
