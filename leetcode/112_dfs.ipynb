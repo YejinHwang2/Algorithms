{
 "cells": [
  {
   "cell_type": "code",
   "execution_count": 1,
   "metadata": {},
   "outputs": [],
   "source": [
    "class TreeNode:\n",
    "    def __init__(self,val=0,left=None,right=None):\n",
    "        self.val=val\n",
    "        self.left=left\n",
    "        self.right=right"
   ]
  },
  {
   "cell_type": "code",
   "execution_count": 2,
   "metadata": {},
   "outputs": [],
   "source": [
    "root = TreeNode(5)\n",
    "root.left = TreeNode(4)\n",
    "root.left.left = TreeNode(11)\n",
    "root.left.left.left = TreeNode(7)\n",
    "root.left.left.right = TreeNode(2)\n",
    "root.right = TreeNode(8)\n",
    "root.right.left = TreeNode(13)\n",
    "root.right.right = TreeNode(4)\n",
    "root.right.right.right = TreeNode(1)\n"
   ]
  },
  {
   "cell_type": "code",
   "execution_count": 132,
   "metadata": {},
   "outputs": [],
   "source": [
    "def hasPathSum(root, targetSum):\n",
    "    \n",
    "    def dfs(node, targetSum, sum_result):\n",
    "        \n",
    "            if not node:\n",
    "                return False\n",
    "            else: \n",
    "                sum_result += node.val\n",
    "                print(targetSum)\n",
    "                print(\"node val:\", node.val)\n",
    "                print(\"partial_sum\", sum_result)\n",
    "                print(\"------------------------------\")\n",
    "\n",
    "                if sum_result == targetSum and node.left == None and node.right == None:\n",
    "                    return True\n",
    "                return dfs(node.left, targetSum, sum_result)  or dfs(node.right, targetSum, sum_result)\n",
    "\n",
    "\n",
    "    ans = dfs(root,targetSum, 0)\n",
    "    return ans\n",
    "        "
   ]
  },
  {
   "cell_type": "code",
   "execution_count": 133,
   "metadata": {},
   "outputs": [
    {
     "name": "stdout",
     "output_type": "stream",
     "text": [
      "22\n",
      "node val: 5\n",
      "partial_sum 5\n",
      "------------------------------\n",
      "22\n",
      "node val: 4\n",
      "partial_sum 9\n",
      "------------------------------\n",
      "22\n",
      "node val: 11\n",
      "partial_sum 20\n",
      "------------------------------\n",
      "22\n",
      "node val: 7\n",
      "partial_sum 27\n",
      "------------------------------\n",
      "22\n",
      "node val: 2\n",
      "partial_sum 22\n",
      "------------------------------\n",
      "True\n"
     ]
    }
   ],
   "source": [
    "print(hasPathSum(root,22))"
   ]
  },
  {
   "cell_type": "code",
   "execution_count": 110,
   "metadata": {},
   "outputs": [],
   "source": [
    "root2 = TreeNode(1)\n",
    "root2.left = TreeNode(2)"
   ]
  },
  {
   "cell_type": "code",
   "execution_count": 134,
   "metadata": {},
   "outputs": [
    {
     "name": "stdout",
     "output_type": "stream",
     "text": [
      "1\n",
      "node val: 1\n",
      "partial_sum 1\n",
      "------------------------------\n",
      "1\n",
      "node val: 2\n",
      "partial_sum 3\n",
      "------------------------------\n",
      "False\n"
     ]
    }
   ],
   "source": [
    "print(hasPathSum(root2,1))"
   ]
  },
  {
   "cell_type": "code",
   "execution_count": 104,
   "metadata": {},
   "outputs": [],
   "source": [
    "root3 = TreeNode(1)\n",
    "root3.left = TreeNode(2)\n",
    "root3.right = TreeNode(3)"
   ]
  },
  {
   "cell_type": "code",
   "execution_count": 120,
   "metadata": {},
   "outputs": [
    {
     "name": "stdout",
     "output_type": "stream",
     "text": [
      "5\n",
      "node val: 1\n",
      "partial_sum 1\n",
      "------------------------------\n",
      "5\n",
      "node val: 2\n",
      "partial_sum 3\n",
      "------------------------------\n",
      "5\n",
      "node val: 3\n",
      "partial_sum 4\n",
      "------------------------------\n",
      "False\n"
     ]
    }
   ],
   "source": [
    "print(hasPathSum(root3,5))"
   ]
  }
 ],
 "metadata": {
  "interpreter": {
   "hash": "727708c3cdb3c3f496118a21f59f706591203dd8a1521d8d027fa39be58f3bf6"
  },
  "kernelspec": {
   "display_name": "Python 3.8.8 ('base': conda)",
   "language": "python",
   "name": "python3"
  },
  "language_info": {
   "codemirror_mode": {
    "name": "ipython",
    "version": 3
   },
   "file_extension": ".py",
   "mimetype": "text/x-python",
   "name": "python",
   "nbconvert_exporter": "python",
   "pygments_lexer": "ipython3",
   "version": "3.8.8"
  },
  "orig_nbformat": 4
 },
 "nbformat": 4,
 "nbformat_minor": 2
}
