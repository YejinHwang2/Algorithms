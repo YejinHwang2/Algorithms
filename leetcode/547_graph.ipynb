{
 "cells": [
  {
   "cell_type": "markdown",
   "metadata": {},
   "source": [
    "## Number of Provinces\n",
    "There are n cities. Some of them are connected, while some are not. If city a is connected directly with city b, and city b is connected directly with city c, then city a is connected indirectly with city c.\n",
    "\n",
    "A province is a group of directly or indirectly connected cities and no other cities outside of the group.\n",
    "\n",
    "You are given an n x n matrix isConnected where isConnected[i][j] = 1 if the ith city and the jth city are directly connected, and isConnected[i][j] = 0 otherwise.\n",
    "\n",
    "Return the total number of provinces."
   ]
  },
  {
   "cell_type": "code",
   "execution_count": 30,
   "metadata": {},
   "outputs": [],
   "source": [
    "from typing import List\n",
    "class Solution:\n",
    "    def __init__(self):\n",
    "        self.ans = 0\n",
    "        self.graph = {}\n",
    "    def findCircleNum(self, isConnected: List[List[int]]) -> int:\n",
    "        visit= [False for i in range(len(isConnected))]\n",
    "        for i in range(len(isConnected)):\n",
    "            self.graph[i] = []\n",
    "            for j in range(len(isConnected[i])):\n",
    "                if i != j and isConnected[i][j] == 1:\n",
    "                    self.graph[i].append(j)\n",
    "\n",
    "        def traversal(node):\n",
    "            if not visit[node]:\n",
    "                visit[node] = True\n",
    "            else:\n",
    "                return\n",
    "            \n",
    "            for n in self.graph[node]:\n",
    "                traversal(n)\n",
    "      \n",
    "        for n in self.graph:\n",
    "            if not visit[n]:\n",
    "                self.ans += 1\n",
    "            traversal(n)\n",
    "        return self.ans"
   ]
  },
  {
   "cell_type": "code",
   "execution_count": 31,
   "metadata": {},
   "outputs": [],
   "source": [
    "isConnected = [[1,1,0],[1,1,0],[0,0,1]]"
   ]
  },
  {
   "cell_type": "code",
   "execution_count": 32,
   "metadata": {},
   "outputs": [
    {
     "data": {
      "text/plain": [
       "2"
      ]
     },
     "execution_count": 32,
     "metadata": {},
     "output_type": "execute_result"
    }
   ],
   "source": [
    "Solution().findCircleNum(isConnected)"
   ]
  },
  {
   "cell_type": "code",
   "execution_count": 33,
   "metadata": {},
   "outputs": [],
   "source": [
    "isConnected = [[1,0,0],[0,1,0],[0,0,1]]"
   ]
  },
  {
   "cell_type": "code",
   "execution_count": 34,
   "metadata": {},
   "outputs": [
    {
     "data": {
      "text/plain": [
       "3"
      ]
     },
     "execution_count": 34,
     "metadata": {},
     "output_type": "execute_result"
    }
   ],
   "source": [
    "Solution().findCircleNum(isConnected)"
   ]
  },
  {
   "cell_type": "markdown",
   "metadata": {},
   "source": [
    "### Other solution"
   ]
  },
  {
   "cell_type": "code",
   "execution_count": 35,
   "metadata": {},
   "outputs": [],
   "source": [
    "from typing import List\n",
    "# num of island 문제와 유사\n",
    "class Solution:\n",
    "    def dfs(self, i: int, isConnected: List[List[int]]):\n",
    "        isConnected[i][i] = 0\n",
    "        for j in range(len(isConnected)):\n",
    "            if isConnected[i][j] == 1:\n",
    "                isConnected[i][j] = 0\n",
    "                isConnected[j][i] = 0\n",
    "                self.dfs(j, isConnected)\n",
    "        return\n",
    "        \n",
    "    def findCircleNum(self, isConnected: List[List[int]]) -> int:\n",
    "        cnt = 0\n",
    "        for i in range(len(isConnected)):\n",
    "            if isConnected[i][i]:\n",
    "                self.dfs(i, isConnected)\n",
    "                cnt += 1\n",
    "        return cnt\n",
    "        \n",
    "# 출처: https://amber-chaeeunk.tistory.com/129?category=964467 [채채씨의 학습 기록:티스토리]"
   ]
  }
 ],
 "metadata": {
  "kernelspec": {
   "display_name": "Python 3.10.0 ('smile': conda)",
   "language": "python",
   "name": "python3"
  },
  "language_info": {
   "codemirror_mode": {
    "name": "ipython",
    "version": 3
   },
   "file_extension": ".py",
   "mimetype": "text/x-python",
   "name": "python",
   "nbconvert_exporter": "python",
   "pygments_lexer": "ipython3",
   "version": "3.10.0"
  },
  "orig_nbformat": 4,
  "vscode": {
   "interpreter": {
    "hash": "19b3d09e3e7e604d5b9d8dee40e057f3b76e426413024009107f2f2d8376a262"
   }
  }
 },
 "nbformat": 4,
 "nbformat_minor": 2
}
